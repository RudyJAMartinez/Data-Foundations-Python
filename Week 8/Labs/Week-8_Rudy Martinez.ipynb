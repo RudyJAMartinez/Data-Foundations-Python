{
 "cells": [
  {
   "cell_type": "markdown",
   "metadata": {},
   "source": [
    "# Python: More Data Annotation and Numpy\n",
    "\n",
    "Name:\n",
    "\n",
    "abc123:\n",
    "\n",
    "Blank notebook to be used for class exercises."
   ]
  },
  {
   "cell_type": "markdown",
   "metadata": {},
   "source": [
    "## Exercise 1\n",
    "\n",
    "Given the provided numpy array, write code that prints the following:\n",
    "    \n",
    "- Print the third row of the array\n",
    "- Print the second column of the array\n",
    "- Print the fourth row's third column (this should print a single number)."
   ]
  },
  {
   "cell_type": "code",
   "execution_count": 2,
   "metadata": {},
   "outputs": [],
   "source": [
    "import numpy as np\n",
    "\n",
    "grades = [[79, 95, 60],\n",
    "          [95, 60, 61],\n",
    "          [99, 67, 84],\n",
    "          [76, 76, 97],\n",
    "          [91, 84, 98],\n",
    "          [70, 69, 96],\n",
    "          [88, 65, 76],\n",
    "          [67, 73, 80],\n",
    "          [82, 89, 61],\n",
    "          [94, 67, 88]] # \"grades\" is a list of lists.\n",
    "\n",
    "grades = np.array(grades) # Converts \"grades\" into a numpy array"
   ]
  },
  {
   "cell_type": "code",
   "execution_count": null,
   "metadata": {},
   "outputs": [],
   "source": [
    "# Write Code Here"
   ]
  },
  {
   "cell_type": "markdown",
   "metadata": {},
   "source": [
    "## Exercise 2\n",
    "\n",
    "Given the provided array in the Lab file, write code the prints the following:\n",
    "\n",
    "- The average grade per test (column) (this should print an array with 3 items)\n",
    "- The average grade per row, i.e., the average test grade per student\n",
    "- Print the max grade per test\n",
    "- Print the average across all students (rows) and tests (columns)"
   ]
  },
  {
   "cell_type": "code",
   "execution_count": 2,
   "metadata": {},
   "outputs": [],
   "source": [
    "import numpy as np\n",
    "\n",
    "grades = [[79, 95, 60],\n",
    "          [95, 60, 61],\n",
    "          [99, 67, 84],\n",
    "          [76, 76, 97],\n",
    "          [91, 84, 98],\n",
    "          [70, 69, 96],\n",
    "          [88, 65, 76],\n",
    "          [67, 73, 80],\n",
    "          [82, 89, 61],\n",
    "          [94, 67, 88]] # \"grades\" is a list of lists.\n",
    "\n",
    "grades = np.array(grades) # Converts \"grades\" into a numpy array"
   ]
  },
  {
   "cell_type": "code",
   "execution_count": null,
   "metadata": {},
   "outputs": [],
   "source": [
    "# Write Code Here"
   ]
  },
  {
   "cell_type": "markdown",
   "metadata": {},
   "source": [
    "## Exercise 3\n",
    "\n",
    "Write code that prints the grades of all students that have an average grade less than 90."
   ]
  },
  {
   "cell_type": "code",
   "execution_count": 2,
   "metadata": {},
   "outputs": [],
   "source": [
    "import numpy as np\n",
    "\n",
    "grades = [[79, 95, 60],\n",
    "          [95, 60, 61],\n",
    "          [99, 67, 84],\n",
    "          [76, 76, 97],\n",
    "          [91, 84, 98],\n",
    "          [70, 69, 96],\n",
    "          [88, 65, 76],\n",
    "          [67, 73, 80],\n",
    "          [82, 89, 61],\n",
    "          [94, 67, 88]] # \"grades\" is a list of lists.\n",
    "\n",
    "grades = np.array(grades) # Converts \"grades\" into a numpy array"
   ]
  },
  {
   "cell_type": "code",
   "execution_count": null,
   "metadata": {},
   "outputs": [],
   "source": [
    "# Write Code Here"
   ]
  },
  {
   "cell_type": "markdown",
   "metadata": {},
   "source": [
    "## Exercise 4\n",
    "\n",
    "Write code to adds 10 points every student's test grade **if** their average test grade is greater than 90."
   ]
  },
  {
   "cell_type": "code",
   "execution_count": 2,
   "metadata": {},
   "outputs": [],
   "source": [
    "import numpy as np\n",
    "\n",
    "grades = [[79, 95, 60],\n",
    "          [95, 60, 61],\n",
    "          [99, 67, 84],\n",
    "          [76, 76, 97],\n",
    "          [91, 84, 98],\n",
    "          [70, 69, 96],\n",
    "          [88, 65, 76],\n",
    "          [67, 73, 80],\n",
    "          [82, 89, 61],\n",
    "          [94, 67, 88]] # \"grades\" is a list of lists.\n",
    "\n",
    "grades = np.array(grades) # Converts \"grades\" into a numpy array"
   ]
  },
  {
   "cell_type": "code",
   "execution_count": null,
   "metadata": {},
   "outputs": [],
   "source": [
    "# Write Code Here"
   ]
  },
  {
   "cell_type": "markdown",
   "metadata": {},
   "source": [
    "## Exercise 5\n",
    "\n",
    "Write a function that takes two 1-dimensional arrays as input and returns the euclidean distance between the two arrays.\n",
    "\n",
    "Euclidean distance is defined as\n",
    "\n",
    "$EDist = \\sqrt{(x_0 - v_0)^2 + (x_1 - v_1)^2 + \\dots + (x_{D-1} - v_{D-1})^2}$\n",
    "\n",
    "The square root of a number in numpy can be calculated as np.sqrt(x), where x is a number or array.\n",
    "\n",
    "Try to complete this exercise with for loops and with vector notation."
   ]
  },
  {
   "cell_type": "code",
   "execution_count": null,
   "metadata": {},
   "outputs": [],
   "source": [
    "# Write Code Here"
   ]
  },
  {
   "cell_type": "markdown",
   "metadata": {},
   "source": [
    "## Exercise 6\n",
    "\n",
    "Write code to load the data in the \"iris.csv\" into numpy arrays.\n",
    "\n",
    "The frst 4 columns are the features/attributes. The last column is the\n",
    "class. Simply load the class as a list of strings. Don't forget to convert the\n",
    "dataset into a numpy array. You can use either DictVectorizer or the CSV\n",
    "method on the previous slide to load the features."
   ]
  },
  {
   "cell_type": "code",
   "execution_count": 1,
   "metadata": {},
   "outputs": [
    {
     "name": "stdout",
     "output_type": "stream",
     "text": [
      "5.1,3.5,1.4,0.2,Iris-setosa\n",
      "4.9,3.0,1.4,0.2,Iris-setosa\n",
      "4.7,3.2,1.3,0.2,Iris-setosa\n",
      "4.6,3.1,1.5,0.2,Iris-setosa\n",
      "5.0,3.6,1.4,0.2,Iris-setosa\n",
      "5.4,3.9,1.7,0.4,Iris-setosa\n",
      "4.6,3.4,1.4,0.3,Iris-setosa\n",
      "5.0,3.4,1.5,0.2,Iris-setosa\n",
      "4.4,2.9,1.4,0.2,Iris-setosa\n",
      "4.9,3.1,1.5,0.1,Iris-setosa\n"
     ]
    }
   ],
   "source": [
    "with open('./iris.csv') as in_file:\n",
    "    count = 0\n",
    "    for row in in_file:\n",
    "        print(row.strip())\n",
    "        count += 1\n",
    "        if count == 10:\n",
    "            break"
   ]
  },
  {
   "cell_type": "code",
   "execution_count": 1,
   "metadata": {},
   "outputs": [],
   "source": [
    "# Write code here"
   ]
  }
 ],
 "metadata": {
  "kernelspec": {
   "display_name": "Python 3",
   "language": "python",
   "name": "python3"
  },
  "language_info": {
   "codemirror_mode": {
    "name": "ipython",
    "version": 3
   },
   "file_extension": ".py",
   "mimetype": "text/x-python",
   "name": "python",
   "nbconvert_exporter": "python",
   "pygments_lexer": "ipython3",
   "version": "3.8.3"
  }
 },
 "nbformat": 4,
 "nbformat_minor": 4
}
