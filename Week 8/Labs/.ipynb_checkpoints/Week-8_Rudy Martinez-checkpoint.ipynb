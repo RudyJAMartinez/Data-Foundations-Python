{
 "cells": [
  {
   "cell_type": "markdown",
   "metadata": {},
   "source": [
    "# Python: More Data Annotation and Numpy\n",
    "\n",
    "Name: Rudy Martinez\n",
    "\n",
    "abc123: Lpe528\n",
    "\n",
    "Blank notebook to be used for class exercises."
   ]
  },
  {
   "cell_type": "markdown",
   "metadata": {},
   "source": [
    "## Exercise 1\n",
    "\n",
    "Given the provided numpy array, write code that prints the following:\n",
    "    \n",
    "- Print the third row of the array\n",
    "- Print the second column of the array\n",
    "- Print the fourth row's third column (this should print a single number)."
   ]
  },
  {
   "cell_type": "code",
   "execution_count": 2,
   "metadata": {},
   "outputs": [],
   "source": [
    "import numpy as np\n",
    "\n",
    "grades = [[79, 95, 60],\n",
    "          [95, 60, 61],\n",
    "          [99, 67, 84],\n",
    "          [76, 76, 97],\n",
    "          [91, 84, 98],\n",
    "          [70, 69, 96],\n",
    "          [88, 65, 76],\n",
    "          [67, 73, 80],\n",
    "          [82, 89, 61],\n",
    "          [94, 67, 88]] # \"grades\" is a list of lists.\n",
    "\n",
    "grades = np.array(grades) # Converts \"grades\" into a numpy array"
   ]
  },
  {
   "cell_type": "code",
   "execution_count": 38,
   "metadata": {},
   "outputs": [
    {
     "name": "stdout",
     "output_type": "stream",
     "text": [
      "Third Row Values: [99 67 84]\n",
      "\n",
      "Second Column Values: [95 60 67 76 84 69 65 73 89 67]\n",
      "\n",
      "Fourth Row's Third Column Value: 97\n"
     ]
    }
   ],
   "source": [
    "print(f\"Third Row Values: {grades[2,:]}\\n\")\n",
    "print(f\"Second Column Values: {grades[:,1]}\\n\")\n",
    "print(f\"Fourth Row's Third Column Value: {grades[3, 2]}\")"
   ]
  },
  {
   "cell_type": "markdown",
   "metadata": {},
   "source": [
    "## Exercise 2\n",
    "\n",
    "Given the provided array in the Lab file, write code the prints the following:\n",
    "\n",
    "- The average grade per test (column) (this should print an array with 3 items)\n",
    "- The average grade per row, i.e., the average test grade per student\n",
    "- Print the max grade per test\n",
    "- Print the average across all students (rows) and tests (columns)"
   ]
  },
  {
   "cell_type": "code",
   "execution_count": 22,
   "metadata": {},
   "outputs": [],
   "source": [
    "import numpy as np\n",
    "\n",
    "grades = [[79, 95, 60],\n",
    "          [95, 60, 61],\n",
    "          [99, 67, 84],\n",
    "          [76, 76, 97],\n",
    "          [91, 84, 98],\n",
    "          [70, 69, 96],\n",
    "          [88, 65, 76],\n",
    "          [67, 73, 80],\n",
    "          [82, 89, 61],\n",
    "          [94, 67, 88]] # \"grades\" is a list of lists.\n",
    "\n",
    "grades = np.array(grades) # Converts \"grades\" into a numpy array"
   ]
  },
  {
   "cell_type": "code",
   "execution_count": 65,
   "metadata": {},
   "outputs": [
    {
     "name": "stdout",
     "output_type": "stream",
     "text": [
      "Average grade per test [84.1 74.5 80.1]\n",
      "\n",
      "Average grade per row [78.   72.   83.33 83.   91.   78.33 76.33 73.33 77.33 83.  ]\n",
      "\n",
      "Max grade per test [99 95 98]\n",
      "\n",
      "Average across all students 79.57\n"
     ]
    }
   ],
   "source": [
    "print(f\"Average grade per test {grades.mean(axis = 0)}\\n\")\n",
    "print(f\"Average grade per row {grades.mean(axis = 1).round(2)}\\n\")\n",
    "print(f\"Max grade per test {grades.max(axis = 0)}\\n\")\n",
    "print(f\"Average across all students {grades.mean().round(2)}\")"
   ]
  },
  {
   "cell_type": "markdown",
   "metadata": {},
   "source": [
    "## Exercise 3\n",
    "\n",
    "Write code that prints the grades of all students that have an average grade less than 90."
   ]
  },
  {
   "cell_type": "code",
   "execution_count": 39,
   "metadata": {},
   "outputs": [],
   "source": [
    "import numpy as np\n",
    "\n",
    "grades = [[79, 95, 60],\n",
    "          [95, 60, 61],\n",
    "          [99, 67, 84],\n",
    "          [76, 76, 97],\n",
    "          [91, 84, 98],\n",
    "          [70, 69, 96],\n",
    "          [88, 65, 76],\n",
    "          [67, 73, 80],\n",
    "          [82, 89, 61],\n",
    "          [94, 67, 88]] # \"grades\" is a list of lists.\n",
    "\n",
    "grades = np.array(grades) # Converts \"grades\" into a numpy array"
   ]
  },
  {
   "cell_type": "code",
   "execution_count": 54,
   "metadata": {},
   "outputs": [
    {
     "name": "stdout",
     "output_type": "stream",
     "text": [
      "[[79 95 60]\n",
      " [95 60 61]\n",
      " [99 67 84]\n",
      " [76 76 97]\n",
      " [70 69 96]\n",
      " [88 65 76]\n",
      " [67 73 80]\n",
      " [82 89 61]\n",
      " [94 67 88]]\n"
     ]
    }
   ],
   "source": [
    "avg = grades.mean(axis = 1)\n",
    "bool_index = avg < 90\n",
    "print(grades[bool_index,:])"
   ]
  },
  {
   "cell_type": "markdown",
   "metadata": {},
   "source": [
    "## Exercise 4\n",
    "\n",
    "Write code to adds 10 points every student's test grade **if** their average test grade is greater than 90."
   ]
  },
  {
   "cell_type": "code",
   "execution_count": 68,
   "metadata": {},
   "outputs": [],
   "source": [
    "import numpy as np\n",
    "\n",
    "grades = [[79, 95, 60],\n",
    "          [95, 60, 61],\n",
    "          [99, 67, 84],\n",
    "          [76, 76, 97],\n",
    "          [91, 84, 98],\n",
    "          [70, 69, 96],\n",
    "          [88, 65, 76],\n",
    "          [67, 73, 80],\n",
    "          [82, 89, 61],\n",
    "          [94, 67, 88]] # \"grades\" is a list of lists.\n",
    "\n",
    "grades = np.array(grades) # Converts \"grades\" into a numpy array"
   ]
  },
  {
   "cell_type": "code",
   "execution_count": 71,
   "metadata": {},
   "outputs": [
    {
     "data": {
      "text/plain": [
       "array([[ 79,  95,  60],\n",
       "       [ 95,  60,  61],\n",
       "       [ 99,  67,  84],\n",
       "       [ 76,  76,  97],\n",
       "       [101,  94, 108],\n",
       "       [ 70,  69,  96],\n",
       "       [ 88,  65,  76],\n",
       "       [ 67,  73,  80],\n",
       "       [ 82,  89,  61],\n",
       "       [ 94,  67,  88]])"
      ]
     },
     "execution_count": 71,
     "metadata": {},
     "output_type": "execute_result"
    }
   ],
   "source": [
    "new_grades = grades.copy()\n",
    "\n",
    "bool_index = grades.mean(axis = 1) > 90\n",
    "\n",
    "new_grades[bool_index] += 10\n",
    "new_grades"
   ]
  },
  {
   "cell_type": "markdown",
   "metadata": {},
   "source": [
    "## Exercise 5\n",
    "\n",
    "Write a function that takes two 1-dimensional arrays as input and returns the euclidean distance between the two arrays.\n",
    "\n",
    "Euclidean distance is defined as\n",
    "\n",
    "$EDist = \\sqrt{(x_0 - v_0)^2 + (x_1 - v_1)^2 + \\dots + (x_{D-1} - v_{D-1})^2}$\n",
    "\n",
    "The square root of a number in numpy can be calculated as np.sqrt(x), where x is a number or array.\n",
    "\n",
    "Try to complete this exercise with for loops and with vector notation."
   ]
  },
  {
   "cell_type": "code",
   "execution_count": 73,
   "metadata": {},
   "outputs": [
    {
     "data": {
      "text/plain": [
       "8.0"
      ]
     },
     "execution_count": 73,
     "metadata": {},
     "output_type": "execute_result"
    }
   ],
   "source": [
    "def edist(vec_1, vec_2):\n",
    "    return np.sqrt(((vec_1-vec_2)**2).sum())\n",
    "\n",
    "vec_1 = np.array([1,2,3,4])\n",
    "vec_2 = np.array([5,6,7,8])\n",
    "\n",
    "calc = edist(vec_1, vec_2)\n",
    "calc"
   ]
  },
  {
   "cell_type": "markdown",
   "metadata": {},
   "source": [
    "## Exercise 6\n",
    "\n",
    "Write code to load the data in the \"iris.csv\" into numpy arrays.\n",
    "\n",
    "The frst 4 columns are the features/attributes. The last column is the\n",
    "class. Simply load the class as a list of strings. Don't forget to convert the\n",
    "dataset into a numpy array. You can use either DictVectorizer or the CSV\n",
    "method on the previous slide to load the features."
   ]
  },
  {
   "cell_type": "code",
   "execution_count": 1,
   "metadata": {},
   "outputs": [
    {
     "name": "stdout",
     "output_type": "stream",
     "text": [
      "5.1,3.5,1.4,0.2,Iris-setosa\n",
      "4.9,3.0,1.4,0.2,Iris-setosa\n",
      "4.7,3.2,1.3,0.2,Iris-setosa\n",
      "4.6,3.1,1.5,0.2,Iris-setosa\n",
      "5.0,3.6,1.4,0.2,Iris-setosa\n",
      "5.4,3.9,1.7,0.4,Iris-setosa\n",
      "4.6,3.4,1.4,0.3,Iris-setosa\n",
      "5.0,3.4,1.5,0.2,Iris-setosa\n",
      "4.4,2.9,1.4,0.2,Iris-setosa\n",
      "4.9,3.1,1.5,0.1,Iris-setosa\n"
     ]
    }
   ],
   "source": [
    "with open('./iris.csv') as in_file:\n",
    "    count = 0\n",
    "    for row in in_file:\n",
    "        print(row.strip())\n",
    "        count += 1\n",
    "        if count == 10:\n",
    "            break"
   ]
  },
  {
   "cell_type": "code",
   "execution_count": 1,
   "metadata": {},
   "outputs": [],
   "source": [
    "# Write code here"
   ]
  }
 ],
 "metadata": {
  "kernelspec": {
   "display_name": "Python 3",
   "language": "python",
   "name": "python3"
  },
  "language_info": {
   "codemirror_mode": {
    "name": "ipython",
    "version": 3
   },
   "file_extension": ".py",
   "mimetype": "text/x-python",
   "name": "python",
   "nbconvert_exporter": "python",
   "pygments_lexer": "ipython3",
   "version": "3.8.5"
  }
 },
 "nbformat": 4,
 "nbformat_minor": 4
}
