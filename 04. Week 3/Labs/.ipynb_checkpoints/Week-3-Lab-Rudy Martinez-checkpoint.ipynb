{
 "cells": [
  {
   "cell_type": "markdown",
   "metadata": {},
   "source": [
    "# Week 3 Lab Exercises\n",
    "\n",
    "Blank notebook to be used for class exercises."
   ]
  },
  {
   "cell_type": "markdown",
   "metadata": {},
   "source": [
    "## Exercise 1\n",
    "\n",
    "Read the file “mbox.txt” line-by-line and calculate and print the following:\n",
    "\n",
    "- The total number of lines in the file.\n",
    "- The number of lines that contain the substring “From:”"
   ]
  },
  {
   "cell_type": "code",
   "execution_count": 107,
   "metadata": {},
   "outputs": [
    {
     "name": "stdout",
     "output_type": "stream",
     "text": [
      "The total number of lines in the file is: 132044\n",
      "The number of lines that contain the substring 'From' is: 1797\n"
     ]
    }
   ],
   "source": [
    "# Write code here\n",
    "mbox = open(\"mbox.txt\")\n",
    "\n",
    "line_count = 0\n",
    "unique_line_count = 0\n",
    "\n",
    "for line in mbox:\n",
    "    line_count += 1\n",
    "    if \"From:\" in line:\n",
    "        unique_line_count += 1\n",
    "\n",
    "mbox.close()        \n",
    "        \n",
    "print(f\"The total number of lines in the file is: {line_count}\")\n",
    "print(f\"The number of lines that contain the substring 'From' is: {unique_line_count}\")"
   ]
  },
  {
   "cell_type": "markdown",
   "metadata": {},
   "source": [
    "## Exercise 2\n",
    "\n",
    "Write code that reads the file line-by-line numbers.txt, then does thefollowing:\n",
    "- Sum all the numbers in numbers.txt, then prints the numbers to thescreen.\n",
    "\n",
    "Next, append the string \"SUM: k\", wherekis the calculated sum. to the end of numbers.txt as a new line.\n",
    "\n",
    "Finally, print the entire file to make sure you appended to the file correctly.\n",
    "\n",
    "The absolute path for the file is \"../data/numbers.txt\"\n",
    "\n",
    "**Important Python concepts:** for, open ('a' and 'r'), write(), print()"
   ]
  },
  {
   "cell_type": "code",
   "execution_count": 114,
   "metadata": {},
   "outputs": [
    {
     "name": "stdout",
     "output_type": "stream",
     "text": [
      "42\n",
      "18\n",
      "22\n",
      "18\n"
     ]
    }
   ],
   "source": [
    "# If you mess up the file and need to try again, run this cell again to recreate the file\n",
    "with open('./numbers.txt', 'w') as out_file:\n",
    "    out_file.write('42\\n18\\n22\\n18')\n",
    "    \n",
    "with open('numbers.txt', 'r') as in_file:\n",
    "    for row in in_file:\n",
    "        print(row.strip())"
   ]
  },
  {
   "cell_type": "code",
   "execution_count": 115,
   "metadata": {},
   "outputs": [],
   "source": [
    "total = 0\n",
    "\n",
    "num_file = open(\"numbers.txt\", \"r\")\n",
    "\n",
    "for line in num_file:\n",
    "    number = int(line.strip())\n",
    "    total += number\n",
    "\n",
    "with open(\"numbers.txt\", \"a\") as file:\n",
    "    file.write(f\"\\nSum: {total}\")\n",
    "    \n",
    "num_file.close()"
   ]
  },
  {
   "cell_type": "markdown",
   "metadata": {},
   "source": [
    "Run the line below to check your work"
   ]
  },
  {
   "cell_type": "code",
   "execution_count": 116,
   "metadata": {},
   "outputs": [
    {
     "name": "stdout",
     "output_type": "stream",
     "text": [
      "42\n",
      "18\n",
      "22\n",
      "18\n",
      "Sum: 100\n"
     ]
    }
   ],
   "source": [
    "with open('numbers.txt', 'r') as in_file:\n",
    "    for row in in_file:\n",
    "        print(row.strip())"
   ]
  },
  {
   "cell_type": "markdown",
   "metadata": {},
   "source": [
    "## Exercise 3\n",
    "\n",
    "Write a function to calculate your pay given two arguments: hoursWorks and dollarsPerHour. The function should return how much you should be paid. When calculating the final amount, give the employee 1.5 times the hourly rate for hours worked above 40 hours.\n"
   ]
  },
  {
   "cell_type": "code",
   "execution_count": 27,
   "metadata": {},
   "outputs": [],
   "source": [
    "# Test arguments\n",
    "hours = 45 # You worked for 45 hours\n",
    "pay = 10 # You make 10 dollars and hour"
   ]
  },
  {
   "cell_type": "code",
   "execution_count": 106,
   "metadata": {},
   "outputs": [],
   "source": [
    "# Write function here\n",
    "def pay_calc(hoursWorks, dollarsPerHour):\n",
    "    try:\n",
    "        if hoursWorks <= 40:\n",
    "            pay = hoursWorks * dollarsPerHour\n",
    "            return pay\n",
    "        elif hoursWorks > 40:\n",
    "            pay = (hoursWorks - (hoursWorks - 40)) * dollarsPerHour\n",
    "            pay_ot = (hoursWorks - 40) * (dollarsPerHour * 1.5)\n",
    "            return pay + pay_ot\n",
    "    except:\n",
    "        return \"You didn't enter a number!\""
   ]
  },
  {
   "cell_type": "code",
   "execution_count": 105,
   "metadata": {},
   "outputs": [
    {
     "name": "stdout",
     "output_type": "stream",
     "text": [
      "475.0\n",
      "200\n",
      "You didn't enter a number!\n"
     ]
    }
   ],
   "source": [
    "# Call and print output of function here\n",
    "overtime_pay = pay_calc(hours, pay)\n",
    "regular_pay = pay_calc(20, 10)\n",
    "incorrect_entry = pay_calc('apple', 'banana')\n",
    "\n",
    "print(overtime_pay)\n",
    "print(regular_pay)\n",
    "print(incorrect_entry)"
   ]
  },
  {
   "cell_type": "markdown",
   "metadata": {},
   "source": [
    "## Exercise 4\n",
    "\n",
    "Create Asserts to test your code from Exercise 3. Specifically, test the following test cases:\n",
    "\n",
    "- Check whether the functions outputs 20 with inputs hoursWorks = 2 and dollarsPerHour = 10.\n",
    "- Check whether the function does **not** output 410 if hoursWorks = 41 and dollarsPerHour = 10.\n",
    "\n",
    "After all cases are passed successfully, print \"Asserts Completed Successfully\"."
   ]
  },
  {
   "cell_type": "code",
   "execution_count": 104,
   "metadata": {},
   "outputs": [
    {
     "name": "stdout",
     "output_type": "stream",
     "text": [
      "Asserts Completed Successfully\n"
     ]
    }
   ],
   "source": [
    "# WRITE CODE HERE\n",
    "assert(pay_calc(2, 10) == 20)\n",
    "assert(pay_calc(41, 10) != 410)\n",
    "print(\"Asserts Completed Successfully\")"
   ]
  },
  {
   "cell_type": "markdown",
   "metadata": {},
   "source": [
    "## Exercise 5\n",
    "\n",
    "Write code to count the number of times a \"risk\" word appears from the \"risk_lexicon\" in the string variable named \"text.\" Please ignore case (i.e., you should lowercase everything). Lexicon-based analysis is popular because it quantifies various aspects of language.\n",
    "\n",
    "The output of your code should look like the following:\n",
    "\n",
    "```\n",
    "Risk Count: 2\n",
    "```\n",
    "\n",
    "**HINT:** This exercise will require the use of a **for loop**, an **if statement**, and the string operations **.lower() and .split(\" \")**."
   ]
  },
  {
   "cell_type": "code",
   "execution_count": 103,
   "metadata": {},
   "outputs": [
    {
     "name": "stdout",
     "output_type": "stream",
     "text": [
      "Risk Count: 2\n"
     ]
    }
   ],
   "source": [
    "risk_lexicon = set(['danger', 'concern', 'risk', 'risky', 'doubt'])\n",
    "text = \"CocaCola is a risky RISKY investment !!!!\"\n",
    "\n",
    "counter = 0\n",
    "\n",
    "for word in text.split(\" \"):\n",
    "    if word.lower() in risk_lexicon:\n",
    "        counter += 1\n",
    "\n",
    "print(f\"Risk Count: {counter}\")"
   ]
  }
 ],
 "metadata": {
  "kernelspec": {
   "display_name": "Python 3",
   "language": "python",
   "name": "python3"
  },
  "language_info": {
   "codemirror_mode": {
    "name": "ipython",
    "version": 3
   },
   "file_extension": ".py",
   "mimetype": "text/x-python",
   "name": "python",
   "nbconvert_exporter": "python",
   "pygments_lexer": "ipython3",
   "version": "3.8.5"
  }
 },
 "nbformat": 4,
 "nbformat_minor": 4
}
