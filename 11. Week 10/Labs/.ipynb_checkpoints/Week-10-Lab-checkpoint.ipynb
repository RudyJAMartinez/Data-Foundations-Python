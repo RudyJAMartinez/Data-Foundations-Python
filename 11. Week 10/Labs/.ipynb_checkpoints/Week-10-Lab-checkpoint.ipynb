{
 "cells": [
  {
   "cell_type": "markdown",
   "metadata": {},
   "source": [
    "# Machine Learning Case Study\n",
    "\n",
    "Name: **Rudy Martinez**\n",
    "\n",
    "abc123: **Lpe538**\n",
    "\n",
    "Blank notebook to be used for class exercises."
   ]
  },
  {
   "cell_type": "markdown",
   "metadata": {},
   "source": [
    "## Real Example using Week 8's Material"
   ]
  },
  {
   "cell_type": "code",
   "execution_count": 77,
   "metadata": {},
   "outputs": [],
   "source": [
    "import csv\n",
    "import numpy as np\n",
    "from sklearn.feature_extraction import DictVectorizer\n",
    "from sklearn.feature_extraction.text import CountVectorizer\n",
    "from sklearn.svm import SVC, LinearSVC\n",
    "from sklearn.ensemble import RandomForestClassifier\n",
    "from sklearn.metrics import accuracy_score, f1_score\n",
    "from sklearn.model_selection import train_test_split, GridSearchCV\n",
    "import random"
   ]
  },
  {
   "cell_type": "markdown",
   "metadata": {},
   "source": [
    "#### Read the data and convert data to matrix"
   ]
  },
  {
   "cell_type": "code",
   "execution_count": 78,
   "metadata": {},
   "outputs": [],
   "source": [
    "\n",
    "\n",
    "X_dicts = [] #Features\n",
    "Y = [] #Class\n",
    "\n",
    "with open('churn.csv') as file:\n",
    "    csv = csv.reader(file, delimiter = ',')\n",
    "    \n",
    "    header = next(csv)\n",
    "    \n",
    "    for row in csv:\n",
    "        features = {header[3]: float(row[3]),\n",
    "                    header[4]: row[4],\n",
    "                    header[5]: row[5],\n",
    "                    header[6]: float(row[6]),\n",
    "                    header[7]: float(row[7]),\n",
    "                    header[8]: float(row[8]),\n",
    "                    header[9]: float(row[9]),\n",
    "                    header[10]: float(row[10]),\n",
    "                    header[11]: float(row[11]),\n",
    "                    header[12]: float(row[12])}\n",
    "        \n",
    "        X_dicts.append(features)\n",
    "        Y.append(int(row[-1]))\n",
    "        \n",
    "vec = DictVectorizer(sparse = False)\n",
    "X = vec.fit_transform(X_dicts)\n",
    "y = np.array(Y)"
   ]
  },
  {
   "cell_type": "markdown",
   "metadata": {},
   "source": [
    "#### Explore Data"
   ]
  },
  {
   "cell_type": "code",
   "execution_count": 79,
   "metadata": {},
   "outputs": [
    {
     "name": "stdout",
     "output_type": "stream",
     "text": [
      "Shape: (10000, 13)\n",
      "\n",
      "Feature Names: ['Age', 'Balance', 'CreditScore', 'EstimatedSalary', 'Gender=Female', 'Gender=Male', 'Geography=France', 'Geography=Germany', 'Geography=Spain', 'HasCrCard', 'IsActiveMember', 'NumOfProducts', 'Tenure']\n",
      "\n",
      "Age 38.9218\n",
      "Balance 76485.88928799961\n",
      "CreditScore 650.5288\n",
      "EstimatedSalary 100090.2398809998\n",
      "Gender=Female 0.4543\n",
      "Gender=Male 0.5457\n",
      "Geography=France 0.5014\n",
      "Geography=Germany 0.2509\n",
      "Geography=Spain 0.2477\n",
      "HasCrCard 0.7055\n",
      "IsActiveMember 0.5151\n",
      "NumOfProducts 1.5302\n",
      "Tenure 5.0128\n",
      "\n",
      "0.2037\n"
     ]
    }
   ],
   "source": [
    "print(f\"Shape: {X.shape}\\n\")\n",
    "print(f\"Feature Names: {vec.feature_names_}\\n\")\n",
    "\n",
    "stats = X.mean(axis = 0)\n",
    "\n",
    "for f, x in zip(vec.feature_names_, stats):\n",
    "    print(f, x)\n",
    "\n",
    "print()\n",
    "print(y.mean())"
   ]
  },
  {
   "cell_type": "markdown",
   "metadata": {},
   "source": [
    "#### Train model on Data (GridSearchCV with LinearSVC)"
   ]
  },
  {
   "cell_type": "code",
   "execution_count": 100,
   "metadata": {},
   "outputs": [
    {
     "name": "stderr",
     "output_type": "stream",
     "text": [
      "/opt/anaconda3/lib/python3.8/site-packages/sklearn/svm/_base.py:976: ConvergenceWarning: Liblinear failed to converge, increase the number of iterations.\n",
      "  warnings.warn(\"Liblinear failed to converge, increase \"\n",
      "/opt/anaconda3/lib/python3.8/site-packages/sklearn/svm/_base.py:976: ConvergenceWarning: Liblinear failed to converge, increase the number of iterations.\n",
      "  warnings.warn(\"Liblinear failed to converge, increase \"\n",
      "/opt/anaconda3/lib/python3.8/site-packages/sklearn/svm/_base.py:976: ConvergenceWarning: Liblinear failed to converge, increase the number of iterations.\n",
      "  warnings.warn(\"Liblinear failed to converge, increase \"\n",
      "/opt/anaconda3/lib/python3.8/site-packages/sklearn/svm/_base.py:976: ConvergenceWarning: Liblinear failed to converge, increase the number of iterations.\n",
      "  warnings.warn(\"Liblinear failed to converge, increase \"\n",
      "/opt/anaconda3/lib/python3.8/site-packages/sklearn/svm/_base.py:976: ConvergenceWarning: Liblinear failed to converge, increase the number of iterations.\n",
      "  warnings.warn(\"Liblinear failed to converge, increase \"\n",
      "/opt/anaconda3/lib/python3.8/site-packages/sklearn/svm/_base.py:976: ConvergenceWarning: Liblinear failed to converge, increase the number of iterations.\n",
      "  warnings.warn(\"Liblinear failed to converge, increase \"\n",
      "/opt/anaconda3/lib/python3.8/site-packages/sklearn/svm/_base.py:976: ConvergenceWarning: Liblinear failed to converge, increase the number of iterations.\n",
      "  warnings.warn(\"Liblinear failed to converge, increase \"\n",
      "/opt/anaconda3/lib/python3.8/site-packages/sklearn/svm/_base.py:976: ConvergenceWarning: Liblinear failed to converge, increase the number of iterations.\n",
      "  warnings.warn(\"Liblinear failed to converge, increase \"\n",
      "/opt/anaconda3/lib/python3.8/site-packages/sklearn/svm/_base.py:976: ConvergenceWarning: Liblinear failed to converge, increase the number of iterations.\n",
      "  warnings.warn(\"Liblinear failed to converge, increase \"\n"
     ]
    },
    {
     "data": {
      "text/plain": [
       "GridSearchCV(cv=2, estimator=LinearSVC(),\n",
       "             param_grid={'C': [0.001, 0.01, 0.1, 1.0]}, scoring='f1')"
      ]
     },
     "execution_count": 100,
     "metadata": {},
     "output_type": "execute_result"
    }
   ],
   "source": [
    "np.random.seed(42)\n",
    "random.seed(42)\n",
    "\n",
    "X_train, X_test, y_train, y_test = train_test_split(X, y, test_size = 0.2, random_state = 42)\n",
    "\n",
    "parameters_1 = {'C':[0.001, 0.01, 0.1, 1.]}\n",
    "\n",
    "svc_1 = LinearSVC()\n",
    "clf_1 = GridSearchCV(svc_1, parameters_1, scoring = 'f1', cv = 2)\n",
    "\n",
    "clf_1.fit(X_train, y_train)"
   ]
  },
  {
   "cell_type": "markdown",
   "metadata": {},
   "source": [
    "#### Evaluate GridSearchCV with LinearSVC"
   ]
  },
  {
   "cell_type": "code",
   "execution_count": 105,
   "metadata": {},
   "outputs": [
    {
     "name": "stdout",
     "output_type": "stream",
     "text": [
      "Best Score: 0.35301370643722546\n",
      "\n",
      "Best Params: {'C': 1.0}\n",
      "\n",
      "Evaluation: 0.35147928994082844\n"
     ]
    }
   ],
   "source": [
    "print(f\"Best Score: {clf_1.best_score_}\\n\")\n",
    "print(f\"Best Params: {clf_1.best_params_}\\n\")\n",
    "\n",
    "preds_1 = clf_1.predict(X_test)\n",
    "print(f\"Evaluation: {f1_score(y_test, preds_1)}\")"
   ]
  },
  {
   "cell_type": "markdown",
   "metadata": {},
   "source": [
    "#### Train model on Data (GridSearchCV with RandomForestClassifier)"
   ]
  },
  {
   "cell_type": "code",
   "execution_count": 102,
   "metadata": {},
   "outputs": [
    {
     "data": {
      "text/plain": [
       "GridSearchCV(cv=2, estimator=RandomForestClassifier(),\n",
       "             param_grid={'n_estimators': [10, 100, 200, 300, 400]},\n",
       "             scoring='f1')"
      ]
     },
     "execution_count": 102,
     "metadata": {},
     "output_type": "execute_result"
    }
   ],
   "source": [
    "parameters_2 = {'n_estimators': [10, 100, 200, 300, 400]}\n",
    "\n",
    "svc_2 = RandomForestClassifier()\n",
    "clf_2 = GridSearchCV(svc_2, parameters_2, scoring = 'f1', cv = 2)\n",
    "\n",
    "clf_2.fit(X_train, y_train)"
   ]
  },
  {
   "cell_type": "markdown",
   "metadata": {},
   "source": [
    "#### Evaluate GridSearchCV with RandomForestClassifier model"
   ]
  },
  {
   "cell_type": "code",
   "execution_count": 104,
   "metadata": {},
   "outputs": [
    {
     "name": "stdout",
     "output_type": "stream",
     "text": [
      "Best Score: 0.5701264802131772\n",
      "\n",
      "Best Params: {'n_estimators': 400}\n",
      "\n",
      "Evaluation: 0.5852895148669796\n"
     ]
    }
   ],
   "source": [
    "print(f\"Best Score: {clf_2.best_score_}\\n\")\n",
    "print(f\"Best Params: {clf_2.best_params_}\\n\")\n",
    "\n",
    "preds_2 = clf_2.predict(X_test)\n",
    "print(f\"Evaluation: {f1_score(y_test, preds_2)}\")"
   ]
  },
  {
   "cell_type": "markdown",
   "metadata": {},
   "source": [
    "#### F1 Score\n",
    "- The model trained with RandomForestClassifier has an f1 score of **0.5852895148669796**\n",
    "- The model trained with LinearSVC has an f1 score of **0.35147928994082844**\n",
    "\n",
    "#### Conclusions\n",
    "- The RandomForestClassifier model performed better"
   ]
  },
  {
   "cell_type": "code",
   "execution_count": null,
   "metadata": {},
   "outputs": [],
   "source": []
  }
 ],
 "metadata": {
  "kernelspec": {
   "display_name": "Python 3",
   "language": "python",
   "name": "python3"
  },
  "language_info": {
   "codemirror_mode": {
    "name": "ipython",
    "version": 3
   },
   "file_extension": ".py",
   "mimetype": "text/x-python",
   "name": "python",
   "nbconvert_exporter": "python",
   "pygments_lexer": "ipython3",
   "version": "3.8.5"
  }
 },
 "nbformat": 4,
 "nbformat_minor": 4
}
