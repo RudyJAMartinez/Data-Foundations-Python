{
 "cells": [
  {
   "cell_type": "markdown",
   "metadata": {},
   "source": [
    "## Exercise 1 (1 points)\n",
    "\n",
    "The files \"positive_words.txt\" and \"negative_words.txt\" contain mannually curated positive (e.g., good, great, awesome) and negative words (e.g., bad, hate, terrible). The files contain one word on each line. Write a function that takes the open file and adds the words (i.e., each line) to a set then returns it.\n",
    "\n",
    "**Note:** You should use \".strip()\" to remove the newline character from the end of each word. "
   ]
  },
  {
   "cell_type": "code",
   "execution_count": 25,
   "metadata": {},
   "outputs": [],
   "source": [
    "# Write code here\n",
    "\n",
    "def file_to_set(file):\n",
    "    \"\"\"\n",
    "    This function should take a file handler as input and return a set.\n",
    "    \n",
    "        Parameters:\n",
    "            - file file handle: This variable is a file handle\n",
    "            \n",
    "        Return:\n",
    "            - The file should return a set (e.g., {'good', 'great', 'happy'})\n",
    "    \"\"\"\n",
    "    word_set = set()\n",
    "    \n",
    "    for word in file:\n",
    "        word_set.add(word.strip())\n",
    "\n",
    "    return word_set # You should return a set\n",
    "\n",
    "positive_file = open('./bing_liu/positive-words.txt', encoding='utf8')\n",
    "positive_words = file_to_set(positive_file)\n",
    "positive_file.close()\n",
    "\n",
    "negative_file = open('./bing_liu/negative-words.txt', encoding='iso-8859-1') # If you get a weird read error. Let me know. We can change the encoding.\n",
    "negative_words = file_to_set(negative_file)\n",
    "negative_file.close()"
   ]
  },
  {
   "cell_type": "markdown",
   "metadata": {},
   "source": [
    "The lines below give example inputs and correct outputs using asserts, and can be run to test the code. Passing these tests is necessary, but **NOT** sufficient to guarantee your implementation is correct. You may add additional test cases, but do not remove any tests."
   ]
  },
  {
   "cell_type": "code",
   "execution_count": 26,
   "metadata": {},
   "outputs": [
    {
     "name": "stdout",
     "output_type": "stream",
     "text": [
      "Asserts finished successfully!\n"
     ]
    }
   ],
   "source": [
    "assert(type(positive_words) == type(set()))\n",
    "assert(type(negative_words) == type(set()))\n",
    "assert(len(positive_words) == 2006)\n",
    "assert(len(negative_words) == 4783)\n",
    "assert(('good' in positive_words)  == True)\n",
    "assert(('bad' in negative_words)  == True)\n",
    "assert(('bad' not in positive_words) == True)\n",
    "print(\"Asserts finished successfully!\")"
   ]
  },
  {
   "cell_type": "markdown",
   "metadata": {},
   "source": [
    "## Exercise 2 (1 points)\n",
    "\n",
    "For this exercise, you need to write a function that counts the number of words in a sentence that also appear in a set. For example, given the set set(['good', 'great']) and the sentence \"this is good good good\", the function should return 3.\n",
    "\n",
    "**Hint:** You can check if something is in a set using the following notation:\n",
    "\n",
    "```python\n",
    "mySet = set([\"a\", \"b\", \"c\"])\n",
    "otherList = [\"c\", \"d\"]\n",
    "for letter in otherList:\n",
    "    if letter in mySet:\n",
    "        print(letter)\n",
    "```\n",
    "\n",
    "The above code will print \"c\"."
   ]
  },
  {
   "cell_type": "code",
   "execution_count": 41,
   "metadata": {},
   "outputs": [],
   "source": [
    "def count_sentiment_words(sentiment_set, tweet_text, lower):\n",
    "    \"\"\"\n",
    "    This function takes a set and string as input, then counts the number of words that \n",
    "    appear in the string (tweet_text) that are also in the set (sentiment_set). The\n",
    "    tweet_text should be normalized based on the lower argument (i.e., lowercase if True)\n",
    "    \n",
    "        Parameters:\n",
    "            - sentiment_set set: A set of sentiment words, e.g., {'good', 'great', 'happy'}\n",
    "            - tweet_text string: A tweet, e.g., \"I go to UTSA!!!\"\n",
    "            - lower bool: A True or False boolean value indicating the tweet_text should be lowercased\n",
    "    \"\"\"\n",
    "    word_count = 0\n",
    "    \n",
    "    for word in tweet_text.split():\n",
    "        if word in sentiment_set:\n",
    "            word_count += 1\n",
    "    \n",
    "    return word_count #You should return a number"
   ]
  },
  {
   "cell_type": "markdown",
   "metadata": {},
   "source": [
    "The lines below give example inputs and correct outputs using asserts, and can be run to test the code. Passing these tests is necessary, but **NOT** sufficient to guarantee your implementation is correct. You may add additional test cases, but do not remove any tests."
   ]
  },
  {
   "cell_type": "code",
   "execution_count": 42,
   "metadata": {},
   "outputs": [
    {
     "name": "stdout",
     "output_type": "stream",
     "text": [
      "Asserts finished successfully!\n"
     ]
    }
   ],
   "source": [
    "assert(count_sentiment_words(positive_words, \"this is a good good good class\", True) == 3)\n",
    "assert(count_sentiment_words(positive_words, \"this is a good\\tgood\\tgood class\", True) == 3)\n",
    "assert(count_sentiment_words(positive_words, \"this is a GOOD GOOD GOOD class\", False) == 0)\n",
    "assert(count_sentiment_words(positive_words, \"this is a GOOD GOOD good class\", False) == 1)\n",
    "assert(count_sentiment_words(positive_words, \"Python is the best programming language for data science\", True) == 1)\n",
    "assert(count_sentiment_words(negative_words, \"R is bad compared to Python ;)\", True) == 1)\n",
    "print(\"Asserts finished successfully!\")"
   ]
  },
  {
   "cell_type": "markdown",
   "metadata": {},
   "source": [
    "## Exercise 3 (1 point)\n",
    "\n",
    "For this exercise, you will write a function that takes two numbers as input and returns a string. Intuitively, this is a basic classification function for lexicon-based sentiment classification. \n",
    "\n",
    "The function should take as input parameters the the number of positive (num_pos_words) and negative (num_neg_words) words in each tweet to predict sentiment. If the number of positive words is greater than to the number of negative tweets (num_pos_words > num_neg_words), then predict **\"positive\"**. If the number of negative words is greater than the number of positive words (num_neg_words > num_pos_words), then predict **\"negative\"**. If both num_pos_words and num_neg_words are equal (num_neg_words = num_pos_words), predict **\"neutral\"**. This is known as lexicon-based classification.\n"
   ]
  },
  {
   "cell_type": "code",
   "execution_count": 53,
   "metadata": {},
   "outputs": [],
   "source": [
    "def predict(num_pos_words, num_neg_words):\n",
    "    \"\"\"\n",
    "    This function should return the string \"positive\", \"negative\", or \"neutral\" given\n",
    "    the input parameters, i.e., if num_pos_words is greater than num_neg_words, return \"positive\"\n",
    "    \n",
    "        Parameters:\n",
    "            - num_pos_words int: This is a count representing the number of positive words in a tweet.\n",
    "            - num_neg_words int: This is a count representing the number of negative words in a tweet.\n",
    "            \n",
    "        Return:\n",
    "            - Return a string \"positive\", \"negative\", or \"neutral\"\n",
    "    \"\"\"\n",
    "    result = ['positive', 'negative', 'neutral']\n",
    "    \n",
    "    if num_pos_words - num_neg_words > 0:\n",
    "        return result[0]\n",
    "    elif num_pos_words - num_neg_words < 0:\n",
    "        return result[1]\n",
    "    else:\n",
    "        return result[2]"
   ]
  },
  {
   "cell_type": "markdown",
   "metadata": {},
   "source": [
    "The lines below give example inputs and correct outputs using asserts, and can be run to test the code. Passing these tests is necessary, but **NOT** sufficient to guarantee your implementation is correct. You may add additional test cases, but do not remove any tests."
   ]
  },
  {
   "cell_type": "code",
   "execution_count": 54,
   "metadata": {},
   "outputs": [
    {
     "name": "stdout",
     "output_type": "stream",
     "text": [
      "Assert finished successfully!\n"
     ]
    }
   ],
   "source": [
    "assert(predict(2, 5) == 'negative')\n",
    "assert(predict(5, 2) == 'positive')\n",
    "assert(predict(3, 3) == 'neutral')\n",
    "print(\"Assert finished successfully!\")"
   ]
  },
  {
   "cell_type": "markdown",
   "metadata": {},
   "source": [
    "## Exercise 4 (1 point)\n",
    "\n",
    "This exercise is similar to Exercise 3. However, instead of making a prediction, we should write a function that returns a sentiment score. Specifically, assume num_pos_words is 3 and num_neg_words is 4, the function should return -1. The idea is that the more *positive* the number, the more positive the sentiment. Likewise, the more *negative* the number, the more negative the sentiment."
   ]
  },
  {
   "cell_type": "code",
   "execution_count": 47,
   "metadata": {},
   "outputs": [],
   "source": [
    "def predict_score(num_pos_words, num_neg_words):\n",
    "    \"\"\"\n",
    "    This function should generate a sentiment score num_pos_words - num_neg_words.\n",
    "    \n",
    "        Parameters:\n",
    "            - num_pos_words int: This is a count representing the number of positive words in a tweet.\n",
    "            - num_neg_words int: This is a count representing the number of negative words in a tweet.\n",
    "            \n",
    "        Return:\n",
    "            - Return an integer representing the difference between positive words and negative words.\n",
    "    \"\"\"\n",
    "    sentiment_score = int(num_pos_words - num_neg_words)\n",
    "    \n",
    "    return sentiment_score"
   ]
  },
  {
   "cell_type": "markdown",
   "metadata": {},
   "source": [
    "The lines below give example inputs and correct outputs using asserts, and can be run to test the code. Passing these tests is necessary, but **NOT** sufficient to guarantee your implementation is correct. You may add additional test cases, but do not remove any tests."
   ]
  },
  {
   "cell_type": "code",
   "execution_count": 48,
   "metadata": {},
   "outputs": [
    {
     "name": "stdout",
     "output_type": "stream",
     "text": [
      "Asserts finished successfully!\n"
     ]
    }
   ],
   "source": [
    "assert(predict_score(3, 1) == 2)\n",
    "assert(predict_score(2, 2) == 0)\n",
    "assert(predict_score(2, 5) == -3)\n",
    "print(\"Asserts finished successfully!\")"
   ]
  },
  {
   "cell_type": "markdown",
   "metadata": {},
   "source": [
    "## Exercise 5 (1 point)\n",
    "\n",
    "Write a function that takes a json string as input and returns a Python object. Hint: This can be one line. You can use the json library."
   ]
  },
  {
   "cell_type": "code",
   "execution_count": 66,
   "metadata": {},
   "outputs": [],
   "source": [
    "import json\n",
    "\n",
    "def json_string_to_dictionary(json_string):\n",
    "    \"\"\"\n",
    "    This function should take a json string and convert it into a Python object (hint: loads)\n",
    "    \n",
    "        Parameters:\n",
    "            - json_string str: A json string, e.g., '{\"a\": 1}'\n",
    "            \n",
    "        Returns:\n",
    "            - Return a python object, e.g., {\"a\": 1} <--- look no quotes, so this is a dictionary\n",
    "    \"\"\"\n",
    "    result = json.loads(json_string)\n",
    "    return result"
   ]
  },
  {
   "cell_type": "markdown",
   "metadata": {},
   "source": [
    "The lines below give example inputs and correct outputs using asserts, and can be run to test the code. Passing these tests is necessary, but **NOT** sufficient to guarantee your implementation is correct. You may add additional test cases, but do not remove any tests."
   ]
  },
  {
   "cell_type": "code",
   "execution_count": 67,
   "metadata": {},
   "outputs": [
    {
     "name": "stdout",
     "output_type": "stream",
     "text": [
      "Assert finished successfully!\n"
     ]
    }
   ],
   "source": [
    "data = json_string_to_dictionary('{\"a\": 1}')\n",
    "assert(data == {'a': 1})\n",
    "data = json_string_to_dictionary('[1,2,3]')\n",
    "assert(data == [1,2,3])\n",
    "print(\"Assert finished successfully!\")"
   ]
  },
  {
   "cell_type": "markdown",
   "metadata": {},
   "source": [
    "## Exercise 6 (3 points)\n",
    "\n",
    "For this task, we combine the functions written for the previous exercises to classify all of the tweets in a real Twitter dataset. You should write code that does the following:\n",
    "1. Keeps track of the number of tweets\n",
    "2. Keeps track of the number of positive and negative tweets\n",
    "3. Keeps track of the user that tweets the most\n",
    "4. Keeps track of the total number of unique users\n",
    "5. Keeps track of the average number of tweets per user (how many tweets does each user make, on average)\n",
    "6. Keeps track of the most positive and negative tweets.\n",
    "\n",
    "Note: This task depends on Exercises 1 through 5. You will need to complete them first. Also, do **not** store all of the tweets in a list.  This will use too much memory because of the size of the dataset. It is okay to store all of the user's screen names.\n",
    "\n",
    "Finally, the dataset is big! So, I recommend working on a subset of the dataset to make sure your code works, i.e., you could \"break\" after the first 100 lines.\n",
    "\n"
   ]
  },
  {
   "cell_type": "code",
   "execution_count": 76,
   "metadata": {},
   "outputs": [],
   "source": [
    "total_number_of_tweets = 0\n",
    "total_number_of_positive_tweets = 0\n",
    "total_number_of_negative_tweets = 0\n",
    "total_number_of_users = 0\n",
    "max_tweets = 0\n",
    "user_with_most_tweets = ''\n",
    "\n",
    "# Added Variables\n",
    "unique_users = {}\n",
    "total_number_of_neutral_tweets = 0\n",
    "user_scores = {}\n",
    "\n",
    "most_positive_tweet = ''\n",
    "most_negative_tweet = ''\n",
    "average_number_tweets_per_user = 0\n",
    "\n",
    "\n",
    "# NOTE: You may need to define extra variables to help generate the required output.\n",
    "\n",
    "twitter_dataset = open('puerto-rico.jsonl', 'r')\n",
    "\n",
    "for row in twitter_dataset:\n",
    "    tweet_dict = json_string_to_dictionary(row)\n",
    "    \n",
    "    ###############################\n",
    "    \n",
    "    tweet_text = tweet_dict['full_text'] # MODIFY THIS LINE TO GET THE \"full_text\" from the tweet_dict\n",
    "    screen_name = tweet_dict['user']['screen_name'] # MODIFY THIS LINE TO GET THE \"screen_name\" from the tweet_dict\n",
    "    \n",
    "    ###############################\n",
    "    \n",
    "    num_pos_words = count_sentiment_words(positive_words, tweet_text, True)\n",
    "    num_neg_words = count_sentiment_words(negative_words, tweet_text, True)\n",
    "    \n",
    "    sentiment_prediction = predict(num_pos_words, num_neg_words)\n",
    "    sentiment_score = predict_score(num_pos_words, num_neg_words)\n",
    "    \n",
    "    ################################\n",
    "    \n",
    "    #   1. Keep track of the number of tweets\n",
    "    total_number_of_tweets += 1\n",
    "        \n",
    "    #   2. Keep track of the number of positive and negative tweets\n",
    "    if sentiment_prediction == 'positive':\n",
    "        total_number_of_positive_tweets += 1\n",
    "    elif sentiment_prediction == 'negative':\n",
    "        total_number_of_negative_tweets += 1\n",
    "    else:\n",
    "        total_number_of_neutral_tweets += 1\n",
    "    \n",
    "    #   4. Keep track of the total number of unique users\n",
    "    unique_users[screen_name] = unique_users.get(screen_name, 0) + 1\n",
    "    \n",
    "    #   5. Keep track of the average number of tweets per user (how many tweets does each user make, on average)\n",
    "    \n",
    "    \n",
    "    #   6. Keep track of the most positive and negative tweets.\n",
    "    user_scores[screen_name] = user_scores.get(screen_name, 0) + sentiment_score\n",
    "        \n",
    "    ################################\n",
    "\n",
    "# Total Count of Unique Users\n",
    "total_number_of_users = len(unique_users)    \n",
    "    \n",
    "    \n",
    "#   3. Keep track of the user that tweets the most\n",
    "for k,v in unique_users.items():\n",
    "    if v > max_tweets:\n",
    "        max_tweets = v\n",
    "        user_with_most_tweets = k\n",
    "\n",
    "twitter_dataset.close()"
   ]
  },
  {
   "cell_type": "code",
   "execution_count": 70,
   "metadata": {},
   "outputs": [
    {
     "name": "stdout",
     "output_type": "stream",
     "text": [
      "{'contributors': None,\n",
      " 'coordinates': None,\n",
      " 'created_at': 'Wed Oct 04 22:16:12 +0000 2017',\n",
      " 'display_text_range': [0, 140],\n",
      " 'entities': {'hashtags': [],\n",
      "              'symbols': [],\n",
      "              'urls': [],\n",
      "              'user_mentions': [{'id': 815708250217840640,\n",
      "                                 'id_str': '815708250217840640',\n",
      "                                 'indices': [3, 17],\n",
      "                                 'name': 'Leia🇨🇴',\n",
      "                                 'screen_name': 'TheSWPrincess'},\n",
      "                                {'id': 350597282,\n",
      "                                 'id_str': '350597282',\n",
      "                                 'indices': [19, 29],\n",
      "                                 'name': 'Brianna Sacks',\n",
      "                                 'screen_name': 'bri_sacks'}]},\n",
      " 'favorite_count': 0,\n",
      " 'favorited': False,\n",
      " 'full_text': 'RT @TheSWPrincess: @bri_sacks To find out how to help, visit '\n",
      "              'the site below. Virgin Islanders are not getting the media '\n",
      "              'attention that #Pue…',\n",
      " 'geo': None,\n",
      " 'id': 915702116550955008,\n",
      " 'id_str': '915702116550955008',\n",
      " 'in_reply_to_screen_name': None,\n",
      " 'in_reply_to_status_id': None,\n",
      " 'in_reply_to_status_id_str': None,\n",
      " 'in_reply_to_user_id': None,\n",
      " 'in_reply_to_user_id_str': None,\n",
      " 'is_quote_status': False,\n",
      " 'lang': 'en',\n",
      " 'place': None,\n",
      " 'retweet_count': 63,\n",
      " 'retweeted': False,\n",
      " 'retweeted_status': {'contributors': None,\n",
      "                      'coordinates': None,\n",
      "                      'created_at': 'Wed Oct 04 12:54:36 +0000 2017',\n",
      "                      'display_text_range': [11, 220],\n",
      "                      'entities': {'hashtags': [{'indices': [116, 127],\n",
      "                                                 'text': 'PuertoRico'},\n",
      "                                                {'indices': [168, 179],\n",
      "                                                 'text': 'FederalAid'},\n",
      "                                                {'indices': [180, 195],\n",
      "                                                 'text': 'DisasterRelief'}],\n",
      "                                   'symbols': [],\n",
      "                                   'urls': [{'display_url': 'usvirecovery.org',\n",
      "                                             'expanded_url': 'https://www.usvirecovery.org',\n",
      "                                             'indices': [197, 220],\n",
      "                                             'url': 'https://t.co/mO8YF2hBWU'}],\n",
      "                                   'user_mentions': [{'id': 350597282,\n",
      "                                                      'id_str': '350597282',\n",
      "                                                      'indices': [0, 10],\n",
      "                                                      'name': 'Brianna Sacks',\n",
      "                                                      'screen_name': 'bri_sacks'}]},\n",
      "                      'favorite_count': 50,\n",
      "                      'favorited': False,\n",
      "                      'full_text': '@bri_sacks To find out how to help, visit '\n",
      "                                   'the site below. Virgin Islanders are not '\n",
      "                                   'getting the media attention that '\n",
      "                                   '#PuertoRico is, but they need help just as '\n",
      "                                   'badly. 2 #FederalAid #DisasterRelief  '\n",
      "                                   'https://t.co/mO8YF2hBWU',\n",
      "                      'geo': None,\n",
      "                      'id': 915560788508790784,\n",
      "                      'id_str': '915560788508790784',\n",
      "                      'in_reply_to_screen_name': 'TheSWPrincess',\n",
      "                      'in_reply_to_status_id': 915559848900726789,\n",
      "                      'in_reply_to_status_id_str': '915559848900726789',\n",
      "                      'in_reply_to_user_id': 815708250217840640,\n",
      "                      'in_reply_to_user_id_str': '815708250217840640',\n",
      "                      'is_quote_status': False,\n",
      "                      'lang': 'en',\n",
      "                      'place': None,\n",
      "                      'possibly_sensitive': False,\n",
      "                      'retweet_count': 63,\n",
      "                      'retweeted': False,\n",
      "                      'source': '<a href=\"http://twitter.com/download/android\" '\n",
      "                                'rel=\"nofollow\">Twitter for Android</a>',\n",
      "                      'truncated': False,\n",
      "                      'user': {'can_media_tag': False,\n",
      "                               'contributors_enabled': False,\n",
      "                               'created_at': 'Sun Jan 01 23:56:16 +0000 2017',\n",
      "                               'default_profile': False,\n",
      "                               'default_profile_image': False,\n",
      "                               'description': 'Latina, Democrat, rescue dog '\n",
      "                                              'mom, Rebel Scum, Trekkie, '\n",
      "                                              'Whovian. Cursed by auto '\n",
      "                                              'correct. Logical to a fault. 🖖🏽 '\n",
      "                                              'Blocked by Roseanne & Roy '\n",
      "                                              'Moore. Democracy 2020',\n",
      "                               'entities': {'description': {'urls': []},\n",
      "                                            'url': {'urls': [{'display_url': '5calls.org',\n",
      "                                                              'expanded_url': 'https://5calls.org/',\n",
      "                                                              'indices': [0,\n",
      "                                                                          23],\n",
      "                                                              'url': 'https://t.co/in8vW08a8w'}]}},\n",
      "                               'favourites_count': 166363,\n",
      "                               'follow_request_sent': False,\n",
      "                               'followed_by': False,\n",
      "                               'followers_count': 71723,\n",
      "                               'following': False,\n",
      "                               'friends_count': 33826,\n",
      "                               'geo_enabled': False,\n",
      "                               'has_extended_profile': False,\n",
      "                               'id': 815708250217840640,\n",
      "                               'id_str': '815708250217840640',\n",
      "                               'is_translation_enabled': False,\n",
      "                               'is_translator': False,\n",
      "                               'lang': None,\n",
      "                               'listed_count': 145,\n",
      "                               'location': 'Maryland, USA',\n",
      "                               'name': 'Leia🇨🇴',\n",
      "                               'notifications': False,\n",
      "                               'profile_background_color': '000000',\n",
      "                               'profile_background_image_url': 'http://abs.twimg.com/images/themes/theme1/bg.png',\n",
      "                               'profile_background_image_url_https': 'https://abs.twimg.com/images/themes/theme1/bg.png',\n",
      "                               'profile_background_tile': False,\n",
      "                               'profile_banner_extensions_alt_text': None,\n",
      "                               'profile_banner_url': 'https://pbs.twimg.com/profile_banners/815708250217840640/1575995463',\n",
      "                               'profile_image_extensions_alt_text': None,\n",
      "                               'profile_image_url': 'http://pbs.twimg.com/profile_images/1167132456614531072/7yGbMmiX_normal.jpg',\n",
      "                               'profile_image_url_https': 'https://pbs.twimg.com/profile_images/1167132456614531072/7yGbMmiX_normal.jpg',\n",
      "                               'profile_link_color': '981CEB',\n",
      "                               'profile_sidebar_border_color': '000000',\n",
      "                               'profile_sidebar_fill_color': '000000',\n",
      "                               'profile_text_color': '000000',\n",
      "                               'profile_use_background_image': False,\n",
      "                               'protected': False,\n",
      "                               'screen_name': 'TheSWPrincess',\n",
      "                               'statuses_count': 145021,\n",
      "                               'time_zone': None,\n",
      "                               'translator_type': 'none',\n",
      "                               'url': 'https://t.co/in8vW08a8w',\n",
      "                               'utc_offset': None,\n",
      "                               'verified': False}},\n",
      " 'source': '<a href=\"http://twitter.com/download/iphone\" '\n",
      "           'rel=\"nofollow\">Twitter for iPhone</a>',\n",
      " 'truncated': False,\n",
      " 'user': {'can_media_tag': True,\n",
      "          'contributors_enabled': False,\n",
      "          'created_at': 'Sun Sep 14 17:43:46 +0000 2014',\n",
      "          'default_profile': True,\n",
      "          'default_profile_image': False,\n",
      "          'description': 'Love all #animals #Vegan #crueltyfree, no products '\n",
      "                         'w/palm, #bantrophyhunting #animalactivist '\n",
      "                         '#bancaptivity #envrionmentalist #Notmypresident '\n",
      "                         '#Resistance',\n",
      "          'entities': {'description': {'urls': []}},\n",
      "          'favourites_count': 16466,\n",
      "          'follow_request_sent': False,\n",
      "          'followed_by': False,\n",
      "          'followers_count': 2858,\n",
      "          'following': False,\n",
      "          'friends_count': 2965,\n",
      "          'geo_enabled': True,\n",
      "          'has_extended_profile': False,\n",
      "          'id': 2809902529,\n",
      "          'id_str': '2809902529',\n",
      "          'is_translation_enabled': False,\n",
      "          'is_translator': False,\n",
      "          'lang': None,\n",
      "          'listed_count': 258,\n",
      "          'location': '',\n",
      "          'name': 'Terri Gits',\n",
      "          'notifications': False,\n",
      "          'profile_background_color': 'C0DEED',\n",
      "          'profile_background_image_url': 'http://abs.twimg.com/images/themes/theme1/bg.png',\n",
      "          'profile_background_image_url_https': 'https://abs.twimg.com/images/themes/theme1/bg.png',\n",
      "          'profile_background_tile': False,\n",
      "          'profile_banner_extensions_alt_text': None,\n",
      "          'profile_banner_url': 'https://pbs.twimg.com/profile_banners/2809902529/1511618992',\n",
      "          'profile_image_extensions_alt_text': None,\n",
      "          'profile_image_url': 'http://pbs.twimg.com/profile_images/923879291850391553/2Ap1oA-f_normal.jpg',\n",
      "          'profile_image_url_https': 'https://pbs.twimg.com/profile_images/923879291850391553/2Ap1oA-f_normal.jpg',\n",
      "          'profile_link_color': '1DA1F2',\n",
      "          'profile_sidebar_border_color': 'C0DEED',\n",
      "          'profile_sidebar_fill_color': 'DDEEF6',\n",
      "          'profile_text_color': '333333',\n",
      "          'profile_use_background_image': True,\n",
      "          'protected': False,\n",
      "          'screen_name': 'gits_terri',\n",
      "          'statuses_count': 219621,\n",
      "          'time_zone': None,\n",
      "          'translator_type': 'none',\n",
      "          'url': None,\n",
      "          'utc_offset': None,\n",
      "          'verified': False}}\n"
     ]
    }
   ],
   "source": [
    "import pprint\n",
    "import json\n",
    "with open('puerto-rico.jsonl', 'r') as iFile:\n",
    "    for row in iFile:\n",
    "        pprint.pprint(json.loads(row.strip()))\n",
    "        break"
   ]
  },
  {
   "cell_type": "code",
   "execution_count": null,
   "metadata": {},
   "outputs": [],
   "source": [
    "print(\"Total Number of Tweets: {}\".format(total_number_of_tweets))\n",
    "print(\"Total Number of Positive Tweets: {}\".format(total_number_of_positive_tweets))\n",
    "print(\"Total Number of Negative Tweets: {}\".format(total_number_of_negative_tweets))\n",
    "print(\"Total Number of Neutral Tweets: {}\\n\".format(total_number_of_neutral_tweets))\n",
    "\n",
    "print(\"Most Positive Tweet\")\n",
    "print(most_positive_tweet)\n",
    "print()\n",
    "\n",
    "print(\"Most Negative Tweet\")\n",
    "print(most_negative_tweet)\n",
    "print()\n",
    "\n",
    "print(\"Total Number of Users: {}\".format(total_number_of_users))\n",
    "print(\"Average Number of Tweets per User: {}\".format(average_number_tweets_per_user))\n",
    "print(\"User with the most tweets: {}\".format(user_with_most_tweets))"
   ]
  },
  {
   "cell_type": "markdown",
   "metadata": {},
   "source": [
    "The lines below give example inputs and correct outputs using asserts, and can be run to test the code. Passing these tests is necessary, but **NOT** sufficient to guarantee your implementation is correct. You may add additional test cases, but do not remove any tests."
   ]
  },
  {
   "cell_type": "code",
   "execution_count": null,
   "metadata": {},
   "outputs": [],
   "source": [
    "assert(isinstance(total_number_of_tweets, int) or isinstance(total_number_of_tweets, float))\n",
    "assert(isinstance(total_number_of_positive_tweets, int) or isinstance(total_number_of_positive_tweets, float))\n",
    "assert(isinstance(total_number_of_negative_tweets, int) or isinstance(total_number_of_negative_tweets, float))\n",
    "assert(isinstance(total_number_of_neutral_tweets, int) or isinstance(total_number_of_neutral_tweets, float))\n",
    "assert(isinstance(most_positive_tweet, str))\n",
    "assert(isinstance(most_negative_tweet, str))\n",
    "assert(isinstance(user_with_most_tweets, str))\n",
    "assert(total_number_of_tweets == 737153)\n",
    "print(\"Assert finished successfully!\")"
   ]
  },
  {
   "cell_type": "markdown",
   "metadata": {},
   "source": [
    "## Exercise 7 (2 points)\n",
    "\n",
    "For this exercise, you will perform manual analysis of the predictions. Modify the code to load the tweet text, then answer the questions below."
   ]
  },
  {
   "cell_type": "code",
   "execution_count": null,
   "metadata": {},
   "outputs": [],
   "source": [
    "import json\n",
    "twitter_dataset = open('puerto-rico.jsonl', 'r')\n",
    "\n",
    "num_tweets_to_print = 20\n",
    "\n",
    "num_tweets = 0\n",
    "\n",
    "for row in twitter_dataset:\n",
    "    num_tweets += 1\n",
    "    tweet_dict = json_string_to_dictionary(row)\n",
    "    \n",
    "    ###############################\n",
    "    # YOUR CODE HERE\n",
    "    tweet_text = ... # MODIFY THIS LINE TO GET THE \"full_text\" from the tweet_dict    \n",
    "    ###############################\n",
    "    \n",
    "    num_pos_words = count_sentiment_words(positive_words, tweet_text, True)\n",
    "    num_neg_words = count_sentiment_words(negative_words, tweet_text, True)\n",
    "    \n",
    "    sentiment_prediction = predict(num_pos_words, num_neg_words)\n",
    "    \n",
    "    print(\"Tweet {}: {}\".format(num_tweets, tweet_text))\n",
    "    print(\"Tweet {} Prediction: {}\".format(num_tweets, sentiment_prediction))\n",
    "    print()\n",
    "    \n",
    "    if num_tweets == num_tweets_to_print:\n",
    "        break\n",
    "    \n",
    "twitter_dataset.close()\n"
   ]
  },
  {
   "cell_type": "markdown",
   "metadata": {},
   "source": [
    "Complete the following tasks:\n",
    " \n",
    "- Manually annotate all of the tweets printed above:\n",
    "   1. Tweet 1 Annotation Here\n",
    "   1. Tweet 2 Annotation Here\n",
    "   1. Tweet 3 Annotation Here\n",
    "   1. Tweet 4 Annotation Here\n",
    "   1. Tweet 5 Annotation Here\n",
    "   1. Tweet 6 Annotation Here\n",
    "   1. Tweet 7 Annotation Here\n",
    "   1. Tweet 8 Annotation Here\n",
    "   1. Tweet 9 Annotation Here\n",
    "   1. Tweet 10 Annotation Here\n",
    "   1. Tweet 11 Annotation Here\n",
    "   1. Tweet 12 Annotation Here\n",
    "   1. Tweet 13 Annotation Here\n",
    "   1. Tweet 14 Annotation Here\n",
    "   1. Tweet 15 Annotation Here\n",
    "   1. Tweet 16 Annotation Here\n",
    "   1. Tweet 17 Annotation Here\n",
    "   1. Tweet 18 Annotation Here\n",
    "   1. Tweet 19 Annotation Here\n",
    "   1. Tweet 20 Annotation Here\n",
    "\n",
    "- How many of the predictions are right or wrong compared to your annotations?\n",
    "    - Answer here\n",
    "    \n",
    "- Do you see any major limitations of lexicon-based classificaiton (i.e., making sentiment predictions using individual words)? Use your intuition, I will accept most answers, as long as it makes some sense. Please describe and provide examples below:\n",
    "\n",
    "Answer Here"
   ]
  },
  {
   "cell_type": "markdown",
   "metadata": {},
   "source": [
    "## Extra Credit (2 points)\n",
    "\n",
    "For this exercise, you should use a different dataset (email me if you want me to share a dataset with your directly, or you can use your own---see below for dataset resources) and analyze it with a different (non-sentiment) lexicon. You can complete the same analysis as above, or do something different as long as you make use of a new lexicon and a new dataset. Notice some lexicons only have one class, or more than 2 classes. The processing will be slightly different. Feel free to ask how this can be done via Slack.\n",
    "\n",
    "Possible lexicons:\n",
    "- Hate speech and offensive language lexicons:\n",
    "    - https://github.com/steve050798/hate-speech-and-offensive-language/raw/master/lexicons/hatebase_dict.csv\n",
    "    - https://www.cs.cmu.edu/~biglou/resources/bad-words.txt\n",
    "- Mental (Health) Lexicons    \n",
    "    - Anxiety Lexicon\n",
    "        - https://github.com/lrheault/anxiety\n",
    "    - Depression Lexicon\n",
    "        - https://github.com/halolimat/Social-media-Depression-Detector\n",
    "    - Abuse Lexicon\n",
    "        - https://github.com/uds-lsv/lexicon-of-abusive-words\n",
    "        \n",
    "You may use one of the lexicons above or another non-sentiment lexicon of your choice. I may allow another sentiment lexicon if the new analysis is interesting; however, email me before doing this. An example would be using a Spanish sentiment lexicon to analyze Spanish text, or doing a different analysis than the one abouve (e.g., anayzing sentiment over time).\n",
    "\n",
    "Where to look for new data?\n",
    "- https://www.kaggle.com\n",
    "- https://www.docnow.io/catalog/ (Some datasets contain the text, not just tweet ids). If you have something specific you want, I can grab it for you using my developer account.\n",
    "- Google :). You do not need to use tweets.\n",
    "\n",
    "You can pull new data from Twitter, but you will need to create a developer account. The easiest way to pull new data is via the use of Twarc (https://github.com/DocNow/twarc).\n",
    "\n",
    "Finally, when you submit, I don't need to have your data, just make sure to provide a couple of examples, a link to the data (if available), and make sure all of the output of your code is printed with the output so I can analyze it."
   ]
  },
  {
   "cell_type": "code",
   "execution_count": null,
   "metadata": {},
   "outputs": [],
   "source": [
    "# Write and document your code here"
   ]
  }
 ],
 "metadata": {
  "kernelspec": {
   "display_name": "Python 3",
   "language": "python",
   "name": "python3"
  },
  "language_info": {
   "codemirror_mode": {
    "name": "ipython",
    "version": 3
   },
   "file_extension": ".py",
   "mimetype": "text/x-python",
   "name": "python",
   "nbconvert_exporter": "python",
   "pygments_lexer": "ipython3",
   "version": "3.8.5"
  }
 },
 "nbformat": 4,
 "nbformat_minor": 4
}
