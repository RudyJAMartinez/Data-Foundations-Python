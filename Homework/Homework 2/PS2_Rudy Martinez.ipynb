{
 "cells": [
  {
   "cell_type": "markdown",
   "metadata": {},
   "source": [
    "## Exercise 1 (1 points)\n",
    "\n",
    "The files \"positive_words.txt\" and \"negative_words.txt\" contain mannually curated positive (e.g., good, great, awesome) and negative words (e.g., bad, hate, terrible). The files contain one word on each line. Write a function that takes the open file and adds the words (i.e., each line) to a set then returns it.\n",
    "\n",
    "**Note:** You should use \".strip()\" to remove the newline character from the end of each word. "
   ]
  },
  {
   "cell_type": "code",
   "execution_count": 25,
   "metadata": {},
   "outputs": [],
   "source": [
    "# Write code here\n",
    "\n",
    "def file_to_set(file):\n",
    "    \"\"\"\n",
    "    This function should take a file handler as input and return a set.\n",
    "    \n",
    "        Parameters:\n",
    "            - file file handle: This variable is a file handle\n",
    "            \n",
    "        Return:\n",
    "            - The file should return a set (e.g., {'good', 'great', 'happy'})\n",
    "    \"\"\"\n",
    "    word_set = set()\n",
    "    \n",
    "    for word in file:\n",
    "        word_set.add(word.strip())\n",
    "\n",
    "    return word_set # You should return a set\n",
    "\n",
    "positive_file = open('./bing_liu/positive-words.txt', encoding='utf8')\n",
    "positive_words = file_to_set(positive_file)\n",
    "positive_file.close()\n",
    "\n",
    "negative_file = open('./bing_liu/negative-words.txt', encoding='iso-8859-1') # If you get a weird read error. Let me know. We can change the encoding.\n",
    "negative_words = file_to_set(negative_file)\n",
    "negative_file.close()"
   ]
  },
  {
   "cell_type": "markdown",
   "metadata": {},
   "source": [
    "The lines below give example inputs and correct outputs using asserts, and can be run to test the code. Passing these tests is necessary, but **NOT** sufficient to guarantee your implementation is correct. You may add additional test cases, but do not remove any tests."
   ]
  },
  {
   "cell_type": "code",
   "execution_count": 26,
   "metadata": {},
   "outputs": [
    {
     "name": "stdout",
     "output_type": "stream",
     "text": [
      "Asserts finished successfully!\n"
     ]
    }
   ],
   "source": [
    "assert(type(positive_words) == type(set()))\n",
    "assert(type(negative_words) == type(set()))\n",
    "assert(len(positive_words) == 2006)\n",
    "assert(len(negative_words) == 4783)\n",
    "assert(('good' in positive_words)  == True)\n",
    "assert(('bad' in negative_words)  == True)\n",
    "assert(('bad' not in positive_words) == True)\n",
    "print(\"Asserts finished successfully!\")"
   ]
  },
  {
   "cell_type": "markdown",
   "metadata": {},
   "source": [
    "## Exercise 2 (1 points)\n",
    "\n",
    "For this exercise, you need to write a function that counts the number of words in a sentence that also appear in a set. For example, given the set set(['good', 'great']) and the sentence \"this is good good good\", the function should return 3.\n",
    "\n",
    "**Hint:** You can check if something is in a set using the following notation:\n",
    "\n",
    "```python\n",
    "mySet = set([\"a\", \"b\", \"c\"])\n",
    "otherList = [\"c\", \"d\"]\n",
    "for letter in otherList:\n",
    "    if letter in mySet:\n",
    "        print(letter)\n",
    "```\n",
    "\n",
    "The above code will print \"c\"."
   ]
  },
  {
   "cell_type": "code",
   "execution_count": 41,
   "metadata": {},
   "outputs": [],
   "source": [
    "def count_sentiment_words(sentiment_set, tweet_text, lower):\n",
    "    \"\"\"\n",
    "    This function takes a set and string as input, then counts the number of words that \n",
    "    appear in the string (tweet_text) that are also in the set (sentiment_set). The\n",
    "    tweet_text should be normalized based on the lower argument (i.e., lowercase if True)\n",
    "    \n",
    "        Parameters:\n",
    "            - sentiment_set set: A set of sentiment words, e.g., {'good', 'great', 'happy'}\n",
    "            - tweet_text string: A tweet, e.g., \"I go to UTSA!!!\"\n",
    "            - lower bool: A True or False boolean value indicating the tweet_text should be lowercased\n",
    "    \"\"\"\n",
    "    word_count = 0\n",
    "    \n",
    "    for word in tweet_text.split():\n",
    "        if word in sentiment_set:\n",
    "            word_count += 1\n",
    "    \n",
    "    return word_count #You should return a number"
   ]
  },
  {
   "cell_type": "markdown",
   "metadata": {},
   "source": [
    "The lines below give example inputs and correct outputs using asserts, and can be run to test the code. Passing these tests is necessary, but **NOT** sufficient to guarantee your implementation is correct. You may add additional test cases, but do not remove any tests."
   ]
  },
  {
   "cell_type": "code",
   "execution_count": 42,
   "metadata": {},
   "outputs": [
    {
     "name": "stdout",
     "output_type": "stream",
     "text": [
      "Asserts finished successfully!\n"
     ]
    }
   ],
   "source": [
    "assert(count_sentiment_words(positive_words, \"this is a good good good class\", True) == 3)\n",
    "assert(count_sentiment_words(positive_words, \"this is a good\\tgood\\tgood class\", True) == 3)\n",
    "assert(count_sentiment_words(positive_words, \"this is a GOOD GOOD GOOD class\", False) == 0)\n",
    "assert(count_sentiment_words(positive_words, \"this is a GOOD GOOD good class\", False) == 1)\n",
    "assert(count_sentiment_words(positive_words, \"Python is the best programming language for data science\", True) == 1)\n",
    "assert(count_sentiment_words(negative_words, \"R is bad compared to Python ;)\", True) == 1)\n",
    "print(\"Asserts finished successfully!\")"
   ]
  },
  {
   "cell_type": "markdown",
   "metadata": {},
   "source": [
    "## Exercise 3 (1 point)\n",
    "\n",
    "For this exercise, you will write a function that takes two numbers as input and returns a string. Intuitively, this is a basic classification function for lexicon-based sentiment classification. \n",
    "\n",
    "The function should take as input parameters the the number of positive (num_pos_words) and negative (num_neg_words) words in each tweet to predict sentiment. If the number of positive words is greater than to the number of negative tweets (num_pos_words > num_neg_words), then predict **\"positive\"**. If the number of negative words is greater than the number of positive words (num_neg_words > num_pos_words), then predict **\"negative\"**. If both num_pos_words and num_neg_words are equal (num_neg_words = num_pos_words), predict **\"neutral\"**. This is known as lexicon-based classification.\n"
   ]
  },
  {
   "cell_type": "code",
   "execution_count": 53,
   "metadata": {},
   "outputs": [],
   "source": [
    "def predict(num_pos_words, num_neg_words):\n",
    "    \"\"\"\n",
    "    This function should return the string \"positive\", \"negative\", or \"neutral\" given\n",
    "    the input parameters, i.e., if num_pos_words is greater than num_neg_words, return \"positive\"\n",
    "    \n",
    "        Parameters:\n",
    "            - num_pos_words int: This is a count representing the number of positive words in a tweet.\n",
    "            - num_neg_words int: This is a count representing the number of negative words in a tweet.\n",
    "            \n",
    "        Return:\n",
    "            - Return a string \"positive\", \"negative\", or \"neutral\"\n",
    "    \"\"\"\n",
    "    result = ['positive', 'negative', 'neutral']\n",
    "    \n",
    "    if num_pos_words - num_neg_words > 0:\n",
    "        return result[0]\n",
    "    elif num_pos_words - num_neg_words < 0:\n",
    "        return result[1]\n",
    "    else:\n",
    "        return result[2]"
   ]
  },
  {
   "cell_type": "markdown",
   "metadata": {},
   "source": [
    "The lines below give example inputs and correct outputs using asserts, and can be run to test the code. Passing these tests is necessary, but **NOT** sufficient to guarantee your implementation is correct. You may add additional test cases, but do not remove any tests."
   ]
  },
  {
   "cell_type": "code",
   "execution_count": 54,
   "metadata": {},
   "outputs": [
    {
     "name": "stdout",
     "output_type": "stream",
     "text": [
      "Assert finished successfully!\n"
     ]
    }
   ],
   "source": [
    "assert(predict(2, 5) == 'negative')\n",
    "assert(predict(5, 2) == 'positive')\n",
    "assert(predict(3, 3) == 'neutral')\n",
    "print(\"Assert finished successfully!\")"
   ]
  },
  {
   "cell_type": "markdown",
   "metadata": {},
   "source": [
    "## Exercise 4 (1 point)\n",
    "\n",
    "This exercise is similar to Exercise 3. However, instead of making a prediction, we should write a function that returns a sentiment score. Specifically, assume num_pos_words is 3 and num_neg_words is 4, the function should return -1. The idea is that the more *positive* the number, the more positive the sentiment. Likewise, the more *negative* the number, the more negative the sentiment."
   ]
  },
  {
   "cell_type": "code",
   "execution_count": 47,
   "metadata": {},
   "outputs": [],
   "source": [
    "def predict_score(num_pos_words, num_neg_words):\n",
    "    \"\"\"\n",
    "    This function should generate a sentiment score num_pos_words - num_neg_words.\n",
    "    \n",
    "        Parameters:\n",
    "            - num_pos_words int: This is a count representing the number of positive words in a tweet.\n",
    "            - num_neg_words int: This is a count representing the number of negative words in a tweet.\n",
    "            \n",
    "        Return:\n",
    "            - Return an integer representing the difference between positive words and negative words.\n",
    "    \"\"\"\n",
    "    sentiment_score = int(num_pos_words - num_neg_words)\n",
    "    \n",
    "    return sentiment_score"
   ]
  },
  {
   "cell_type": "markdown",
   "metadata": {},
   "source": [
    "The lines below give example inputs and correct outputs using asserts, and can be run to test the code. Passing these tests is necessary, but **NOT** sufficient to guarantee your implementation is correct. You may add additional test cases, but do not remove any tests."
   ]
  },
  {
   "cell_type": "code",
   "execution_count": 48,
   "metadata": {},
   "outputs": [
    {
     "name": "stdout",
     "output_type": "stream",
     "text": [
      "Asserts finished successfully!\n"
     ]
    }
   ],
   "source": [
    "assert(predict_score(3, 1) == 2)\n",
    "assert(predict_score(2, 2) == 0)\n",
    "assert(predict_score(2, 5) == -3)\n",
    "print(\"Asserts finished successfully!\")"
   ]
  },
  {
   "cell_type": "markdown",
   "metadata": {},
   "source": [
    "## Exercise 5 (1 point)\n",
    "\n",
    "Write a function that takes a json string as input and returns a Python object. Hint: This can be one line. You can use the json library."
   ]
  },
  {
   "cell_type": "code",
   "execution_count": 66,
   "metadata": {},
   "outputs": [],
   "source": [
    "import json\n",
    "\n",
    "def json_string_to_dictionary(json_string):\n",
    "    \"\"\"\n",
    "    This function should take a json string and convert it into a Python object (hint: loads)\n",
    "    \n",
    "        Parameters:\n",
    "            - json_string str: A json string, e.g., '{\"a\": 1}'\n",
    "            \n",
    "        Returns:\n",
    "            - Return a python object, e.g., {\"a\": 1} <--- look no quotes, so this is a dictionary\n",
    "    \"\"\"\n",
    "    result = json.loads(json_string)\n",
    "    return result"
   ]
  },
  {
   "cell_type": "markdown",
   "metadata": {},
   "source": [
    "The lines below give example inputs and correct outputs using asserts, and can be run to test the code. Passing these tests is necessary, but **NOT** sufficient to guarantee your implementation is correct. You may add additional test cases, but do not remove any tests."
   ]
  },
  {
   "cell_type": "code",
   "execution_count": 67,
   "metadata": {},
   "outputs": [
    {
     "name": "stdout",
     "output_type": "stream",
     "text": [
      "Assert finished successfully!\n"
     ]
    }
   ],
   "source": [
    "data = json_string_to_dictionary('{\"a\": 1}')\n",
    "assert(data == {'a': 1})\n",
    "data = json_string_to_dictionary('[1,2,3]')\n",
    "assert(data == [1,2,3])\n",
    "print(\"Assert finished successfully!\")"
   ]
  },
  {
   "cell_type": "markdown",
   "metadata": {},
   "source": [
    "## Exercise 6 (3 points)\n",
    "\n",
    "For this task, we combine the functions written for the previous exercises to classify all of the tweets in a real Twitter dataset. You should write code that does the following:\n",
    "1. Keeps track of the number of tweets\n",
    "2. Keeps track of the number of positive and negative tweets\n",
    "3. Keeps track of the user that tweets the most\n",
    "4. Keeps track of the total number of unique users\n",
    "5. Keeps track of the average number of tweets per user (how many tweets does each user make, on average)\n",
    "6. Keeps track of the most positive and negative tweets.\n",
    "\n",
    "Note: This task depends on Exercises 1 through 5. You will need to complete them first. Also, do **not** store all of the tweets in a list.  This will use too much memory because of the size of the dataset. It is okay to store all of the user's screen names.\n",
    "\n",
    "Finally, the dataset is big! So, I recommend working on a subset of the dataset to make sure your code works, i.e., you could \"break\" after the first 100 lines.\n",
    "\n"
   ]
  },
  {
   "cell_type": "code",
   "execution_count": 84,
   "metadata": {},
   "outputs": [],
   "source": [
    "total_number_of_tweets = 0\n",
    "total_number_of_positive_tweets = 0\n",
    "total_number_of_negative_tweets = 0\n",
    "total_number_of_users = 0\n",
    "max_tweets = 0\n",
    "user_with_most_tweets = ''\n",
    "most_positive_tweet = ''\n",
    "most_negative_tweet = ''\n",
    "average_number_tweets_per_user = 0\n",
    "unique_users = {}\n",
    "total_number_of_neutral_tweets = 0\n",
    "user_scores = {}\n",
    "max_score = 0\n",
    "min_score = 0\n",
    "\n",
    "twitter_dataset = open('puerto-rico.jsonl', 'r')\n",
    "\n",
    "for row in twitter_dataset:\n",
    "    tweet_dict = json_string_to_dictionary(row)\n",
    "    \n",
    "    ###############################\n",
    "    \n",
    "    tweet_text = tweet_dict['full_text'] # MODIFY THIS LINE TO GET THE \"full_text\" from the tweet_dict\n",
    "    screen_name = tweet_dict['user']['screen_name'] # MODIFY THIS LINE TO GET THE \"screen_name\" from the tweet_dict\n",
    "    \n",
    "    ###############################\n",
    "    \n",
    "    num_pos_words = count_sentiment_words(positive_words, tweet_text, True)\n",
    "    num_neg_words = count_sentiment_words(negative_words, tweet_text, True)\n",
    "    \n",
    "    sentiment_prediction = predict(num_pos_words, num_neg_words)\n",
    "    sentiment_score = predict_score(num_pos_words, num_neg_words)\n",
    "    \n",
    "    ################################\n",
    "    \n",
    "    #   1. Keep track of the number of tweets\n",
    "    total_number_of_tweets += 1\n",
    "        \n",
    "    #   2. Keep track of the number of positive and negative tweets\n",
    "    if sentiment_prediction == 'positive':\n",
    "        total_number_of_positive_tweets += 1\n",
    "    elif sentiment_prediction == 'negative':\n",
    "        total_number_of_negative_tweets += 1\n",
    "    else:\n",
    "        total_number_of_neutral_tweets += 1\n",
    "    \n",
    "    #   4. Keep track of the total number of unique users\n",
    "    unique_users[screen_name] = unique_users.get(screen_name, 0) + 1\n",
    "    \n",
    "    #   6. Keep track of the most positive and negative tweets.\n",
    "    user_scores[tweet_text] = user_scores.get(tweet_text, 0) + sentiment_score\n",
    "        \n",
    "    ################################\n",
    "\n",
    "# Total Count of Unique Users\n",
    "total_number_of_users = len(unique_users)    \n",
    "    \n",
    "#   3. Keep track of the user that tweets the most\n",
    "for k,v in unique_users.items():\n",
    "    if v > max_tweets:\n",
    "        max_tweets = v\n",
    "        user_with_most_tweets = k\n",
    "\n",
    "#   5. Keep track of the average number of tweets per user (how many tweets does each user make, on average)\n",
    "average_number_tweets_per_user = total_number_of_tweets / total_number_of_users\n",
    "        \n",
    "# Most Positive and Negative Tweets\n",
    "for k,v in user_scores.items():\n",
    "    if v > max_score:\n",
    "        max_score = v\n",
    "        most_positive_tweet = k\n",
    "    if v < min_score:\n",
    "        min_score = v\n",
    "        most_negative_tweet = k\n",
    "\n",
    "twitter_dataset.close()"
   ]
  },
  {
   "cell_type": "code",
   "execution_count": 85,
   "metadata": {},
   "outputs": [
    {
     "name": "stdout",
     "output_type": "stream",
     "text": [
      "Total Number of Tweets: 737153\n",
      "Total Number of Positive Tweets: 139453\n",
      "Total Number of Negative Tweets: 173638\n",
      "Total Number of Neutral Tweets: 424062\n",
      "\n",
      "Most Positive Tweet\n",
      "RT @realDonaldTrump: It was great to have Governor @RicardoRossello of #PuertoRico🇵🇷with us at the @WhiteHouse today. We are with you! #PRS…\n",
      "\n",
      "Most Negative Tweet\n",
      "RT @EduSamani: IMPORTANT UPDATES ABOUT PUERTO RICO: Hundreds of nurses are pouring in to help and they are reporting terrible conditions ac…\n",
      "\n",
      "Total Number of Users: 286975\n",
      "Average Number of Tweets per User: 2.5687011063681506\n",
      "User with the most tweets: Noti_PuertoRico\n"
     ]
    }
   ],
   "source": [
    "print(\"Total Number of Tweets: {}\".format(total_number_of_tweets))\n",
    "print(\"Total Number of Positive Tweets: {}\".format(total_number_of_positive_tweets))\n",
    "print(\"Total Number of Negative Tweets: {}\".format(total_number_of_negative_tweets))\n",
    "print(\"Total Number of Neutral Tweets: {}\\n\".format(total_number_of_neutral_tweets))\n",
    "\n",
    "print(\"Most Positive Tweet\")\n",
    "print(most_positive_tweet)\n",
    "print()\n",
    "\n",
    "print(\"Most Negative Tweet\")\n",
    "print(most_negative_tweet)\n",
    "print()\n",
    "\n",
    "print(\"Total Number of Users: {}\".format(total_number_of_users))\n",
    "print(\"Average Number of Tweets per User: {}\".format(average_number_tweets_per_user))\n",
    "print(\"User with the most tweets: {}\".format(user_with_most_tweets))"
   ]
  },
  {
   "cell_type": "markdown",
   "metadata": {},
   "source": [
    "The lines below give example inputs and correct outputs using asserts, and can be run to test the code. Passing these tests is necessary, but **NOT** sufficient to guarantee your implementation is correct. You may add additional test cases, but do not remove any tests."
   ]
  },
  {
   "cell_type": "code",
   "execution_count": 86,
   "metadata": {},
   "outputs": [
    {
     "name": "stdout",
     "output_type": "stream",
     "text": [
      "Assert finished successfully!\n"
     ]
    }
   ],
   "source": [
    "assert(isinstance(total_number_of_tweets, int) or isinstance(total_number_of_tweets, float))\n",
    "assert(isinstance(total_number_of_positive_tweets, int) or isinstance(total_number_of_positive_tweets, float))\n",
    "assert(isinstance(total_number_of_negative_tweets, int) or isinstance(total_number_of_negative_tweets, float))\n",
    "assert(isinstance(total_number_of_neutral_tweets, int) or isinstance(total_number_of_neutral_tweets, float))\n",
    "assert(isinstance(most_positive_tweet, str))\n",
    "assert(isinstance(most_negative_tweet, str))\n",
    "assert(isinstance(user_with_most_tweets, str))\n",
    "assert(total_number_of_tweets == 737153)\n",
    "print(\"Assert finished successfully!\")"
   ]
  },
  {
   "cell_type": "markdown",
   "metadata": {},
   "source": [
    "## Exercise 7 (2 points)\n",
    "\n",
    "For this exercise, you will perform manual analysis of the predictions. Modify the code to load the tweet text, then answer the questions below."
   ]
  },
  {
   "cell_type": "code",
   "execution_count": 87,
   "metadata": {},
   "outputs": [
    {
     "name": "stdout",
     "output_type": "stream",
     "text": [
      "Tweet 1: RT @TheSWPrincess: @bri_sacks To find out how to help, visit the site below. Virgin Islanders are not getting the media attention that #Pue…\n",
      "Tweet 1 Prediction: neutral\n",
      "\n",
      "Tweet 2: I have yet to be able to express my thoughts without expletives about @realDonaldTrump + Hurricane Maria recovery #PuertoRico\n",
      "Tweet 2 Prediction: positive\n",
      "\n",
      "Tweet 3: RT @TalbertSwan: @TaIbertSwan @realDonaldTrump “Sire, the people don’t have power, food, or water!” \n",
      "\n",
      "#Trump: “Let them eat paper towels!”…\n",
      "Tweet 3 Prediction: neutral\n",
      "\n",
      "Tweet 4: RT @NYPDSpecialops: #NYPD ESU K9 “Harley” &amp; “Nash” deployed as part @fema NY-TF1 have been hard at work assisting in the #PuertoRico rescue…\n",
      "Tweet 4 Prediction: neutral\n",
      "\n",
      "Tweet 5: RT @StarrMSS: .@elvisduran gave 30K to @Bethenny to charter  plane to bring supplies to #PuertoRico #HurricaneMaria. He also gave 100K to @…\n",
      "Tweet 5 Prediction: neutral\n",
      "\n",
      "Tweet 6: RT @ericbolling: When will @realDonaldTrump catch a break from fake news outrage? Very unfair slams over #PuertoRico visit.\n",
      "Tweet 6 Prediction: negative\n",
      "\n",
      "Tweet 7: FCC approves up to $77 million to restore communications after hurricane https://t.co/hn0WqJiE9T #WonkAmerica https://t.co/m6P6RvDkZi\n",
      "Tweet 7 Prediction: neutral\n",
      "\n",
      "Tweet 8: \"@daddy_yankee,#PuertoRico native,to #Donate $250,000 to #Habitat &amp; raise $1.5+ #Million!\"❤\n",
      "\n",
      "https://t.co/32kjy93dNZ\n",
      "https://t.co/15bza8gjW0\n",
      "Tweet 8 Prediction: neutral\n",
      "\n",
      "Tweet 9: RT @ericbolling: When will @realDonaldTrump catch a break from fake news outrage? Very unfair slams over #PuertoRico visit.\n",
      "Tweet 9 Prediction: negative\n",
      "\n",
      "Tweet 10: RT @chefjoseandres: Forget politics forget pundits. What I have seen in #PuertoRico is people coming together, sacrificing 2 serve. This is…\n",
      "Tweet 10 Prediction: neutral\n",
      "\n",
      "Tweet 11: RT @mercycorps: Our neighbors in #PuertoRico are resilient, but they need our help to recover + rebuild. We invite you to join us.\n",
      "\n",
      "https:/…\n",
      "Tweet 11 Prediction: positive\n",
      "\n",
      "Tweet 12: RT @StopTrump2020: At least 34 dead - #Trump blames #PuertoRico for #FEMA not having enough money.  #SAD! https://t.co/DHuW7xGlOY\n",
      "Tweet 12 Prediction: neutral\n",
      "\n",
      "Tweet 13: RT @SamaritansPurse: With your support, our disaster response team continues to bring emergency relief to families in #PuertoRico. https://…\n",
      "Tweet 13 Prediction: negative\n",
      "\n",
      "Tweet 14: RT @usairforce: 4 @USARMY Pave Hawks, 4 pallets of search &amp; rescue gear, 1 ATV and 39 search &amp; rescue passengers aboard a C5 headed to #Pue…\n",
      "Tweet 14 Prediction: neutral\n",
      "\n",
      "Tweet 15: RT @RoseAnnDeMoro: RNRN and @AFLCIO send 300+ volunteers to #PuertoRico: union nurses, construction and transportation workers fly out toda…\n",
      "Tweet 15 Prediction: neutral\n",
      "\n",
      "Tweet 16: RT @daddy_yankee: I know the reconstruction of my home island will requiere long-term solutions. - go to the link and help me raise more mo…\n",
      "Tweet 16 Prediction: neutral\n",
      "\n",
      "Tweet 17: RT @Jenniffer2012: Thanks from my heart to @FLOTUS for your caring and your commitment to help. #PuertoRico 🇺🇸🇵🇷 https://t.co/p8fkXfKbXd\n",
      "Tweet 17 Prediction: positive\n",
      "\n",
      "Tweet 18: RT @RichardMadan: Here is President Trump tossing paper towels at hurricane victims in #PuertoRico https://t.co/JjLMRNFcAt\n",
      "Tweet 18 Prediction: neutral\n",
      "\n",
      "Tweet 19: RT @JimmyPatronis: I’m deploying law enforcement assets to join @fdlepio, @FLHSMV and @MyFWC to help in #PuertoRico after #Maria: https://t…\n",
      "Tweet 19 Prediction: neutral\n",
      "\n",
      "Tweet 20: RT @ExDemLatina: .@CarmenYulinCruz is a Lying policial Corrupt hack! \n",
      "She has time to make another shirt for media rounds. #PuertoRico #San…\n",
      "Tweet 20 Prediction: neutral\n",
      "\n"
     ]
    }
   ],
   "source": [
    "import json\n",
    "twitter_dataset = open('puerto-rico.jsonl', 'r')\n",
    "\n",
    "num_tweets_to_print = 20\n",
    "\n",
    "num_tweets = 0\n",
    "\n",
    "for row in twitter_dataset:\n",
    "    num_tweets += 1\n",
    "    tweet_dict = json_string_to_dictionary(row)\n",
    "    \n",
    "    ###############################\n",
    "    # YOUR CODE HERE\n",
    "    tweet_text = tweet_dict['full_text'] # MODIFY THIS LINE TO GET THE \"full_text\" from the tweet_dict    \n",
    "    ###############################\n",
    "    \n",
    "    num_pos_words = count_sentiment_words(positive_words, tweet_text, True)\n",
    "    num_neg_words = count_sentiment_words(negative_words, tweet_text, True)\n",
    "    \n",
    "    sentiment_prediction = predict(num_pos_words, num_neg_words)\n",
    "    \n",
    "    print(\"Tweet {}: {}\".format(num_tweets, tweet_text))\n",
    "    print(\"Tweet {} Prediction: {}\".format(num_tweets, sentiment_prediction))\n",
    "    print()\n",
    "    \n",
    "    if num_tweets == num_tweets_to_print:\n",
    "        break\n",
    "    \n",
    "twitter_dataset.close()"
   ]
  },
  {
   "cell_type": "markdown",
   "metadata": {},
   "source": [
    "Complete the following tasks:\n",
    " \n",
    "- Manually annotate all of the tweets printed above:\n",
    "   1. Tweet 1 Annotation Here: **Negative** / different\n",
    "   1. Tweet 2 Annotation Here: **Negative** / different\n",
    "   1. Tweet 3 Annotation Here: **Negative** / different\n",
    "   1. Tweet 4 Annotation Here: **Positive** / different\n",
    "   1. Tweet 5 Annotation Here: **Neutral**\n",
    "   1. Tweet 6 Annotation Here: **Negative**\n",
    "   1. Tweet 7 Annotation Here: **Neutral**\n",
    "   1. Tweet 8 Annotation Here: **Positive** / different\n",
    "   1. Tweet 9 Annotation Here: **Negative**\n",
    "   1. Tweet 10 Annotation Here: **Positive** / different\n",
    "   1. Tweet 11 Annotation Here: **Positive**\n",
    "   1. Tweet 12 Annotation Here: **Negative** / different\n",
    "   1. Tweet 13 Annotation Here: **Positive** / different\n",
    "   1. Tweet 14 Annotation Here: **Neutral**\n",
    "   1. Tweet 15 Annotation Here: **Neutral**\n",
    "   1. Tweet 16 Annotation Here: **Neutral**\n",
    "   1. Tweet 17 Annotation Here: **Positive**\n",
    "   1. Tweet 18 Annotation Here: **Negative** / different\n",
    "   1. Tweet 19 Annotation Here: **Neutral**\n",
    "   1. Tweet 20 Annotation Here: **Negative** / different\n",
    "\n",
    "- How many of the predictions are right or wrong compared to your annotations?\n",
    "    \n",
    "    **Compared to my annotations. 50% of the predictions were wrong (10 out of 20).**\n",
    "    \n",
    "- Do you see any major limitations of lexicon-based classificaiton (i.e., making sentiment predictions using individual words)? Use your intuition, I will accept most answers, as long as it makes some sense. Please describe and provide examples below:\n",
    "\n",
    "    **Making predictions using individual words can lead to innacurate categorization on the sentiment of phrases stripped out of twitter posts. The efficacy of single words needs to be enhanced so that the context of the text being analyzed is better assessed by the Python program. An example of a way to improve the efficacy of the lexicon is to use words that are more specific to the data being analyzed.**"
   ]
  },
  {
   "cell_type": "markdown",
   "metadata": {},
   "source": [
    "## Extra Credit (2 points)\n",
    "\n",
    "For this exercise, you should use a different dataset (email me if you want me to share a dataset with your directly, or you can use your own---see below for dataset resources) and analyze it with a different (non-sentiment) lexicon. You can complete the same analysis as above, or do something different as long as you make use of a new lexicon and a new dataset. Notice some lexicons only have one class, or more than 2 classes. The processing will be slightly different. Feel free to ask how this can be done via Slack.\n",
    "\n",
    "Possible lexicons:\n",
    "- Hate speech and offensive language lexicons:\n",
    "    - https://github.com/steve050798/hate-speech-and-offensive-language/raw/master/lexicons/hatebase_dict.csv\n",
    "    - https://www.cs.cmu.edu/~biglou/resources/bad-words.txt\n",
    "- Mental (Health) Lexicons    \n",
    "    - Anxiety Lexicon\n",
    "        - https://github.com/lrheault/anxiety\n",
    "    - Depression Lexicon\n",
    "        - https://github.com/halolimat/Social-media-Depression-Detector\n",
    "    - Abuse Lexicon\n",
    "        - https://github.com/uds-lsv/lexicon-of-abusive-words\n",
    "        \n",
    "You may use one of the lexicons above or another non-sentiment lexicon of your choice. I may allow another sentiment lexicon if the new analysis is interesting; however, email me before doing this. An example would be using a Spanish sentiment lexicon to analyze Spanish text, or doing a different analysis than the one abouve (e.g., anayzing sentiment over time).\n",
    "\n",
    "Where to look for new data?\n",
    "- https://www.kaggle.com\n",
    "- https://www.docnow.io/catalog/ (Some datasets contain the text, not just tweet ids). If you have something specific you want, I can grab it for you using my developer account.\n",
    "- Google :). You do not need to use tweets.\n",
    "\n",
    "You can pull new data from Twitter, but you will need to create a developer account. The easiest way to pull new data is via the use of Twarc (https://github.com/DocNow/twarc).\n",
    "\n",
    "Finally, when you submit, I don't need to have your data, just make sure to provide a couple of examples, a link to the data (if available), and make sure all of the output of your code is printed with the output so I can analyze it."
   ]
  },
  {
   "cell_type": "markdown",
   "metadata": {},
   "source": [
    "## Sentiment Analysis on Company News Article Headings Scraped from Finviz.com "
   ]
  },
  {
   "cell_type": "markdown",
   "metadata": {},
   "source": [
    "#### **Scrape Finviz for AAPL News Article Headings and Create a Dataframe**"
   ]
  },
  {
   "cell_type": "code",
   "execution_count": 92,
   "metadata": {},
   "outputs": [],
   "source": [
    "#Packages\n",
    "import pandas as pd\n",
    "import csv\n",
    "from urllib.request import urlopen, Request\n",
    "from bs4 import BeautifulSoup\n",
    "\n",
    "stock = 'AAPL'\n",
    "finviz_url = f'https://finviz.com/quote.ashx?t={stock}'\n",
    "\n",
    "req = Request(url = finviz_url, headers = {'user-agent': 'my-analysis'})\n",
    "response = urlopen(req)\n",
    "html = BeautifulSoup(response, 'html')\n",
    "\n",
    "news_tables = {}\n",
    "news_table = html.find(id = 'news-table')\n",
    "news_tables[stock] = news_table\n",
    "\n",
    "stock_data = news_tables[stock]\n",
    "stock_rows = stock_data.findAll('tr')\n",
    "\n",
    "parsed_data = []\n",
    "\n",
    "for stock, news_table in news_tables.items():\n",
    "    for row in news_table.findAll('tr'):   \n",
    "        title = row.a.text\n",
    "        date_data = row.td.text.split(' ')\n",
    "        \n",
    "        if len(date_data) == 1:\n",
    "            time = date_data[0]\n",
    "        else:\n",
    "            date = date_data[0]\n",
    "            time = date_data[1]\n",
    "        \n",
    "        parsed_data.append([stock, date, time, title])\n",
    "\n",
    "news_df = pd.DataFrame(parsed_data, columns = ['stock', 'date', 'time', 'heading'])"
   ]
  },
  {
   "cell_type": "code",
   "execution_count": 94,
   "metadata": {},
   "outputs": [
    {
     "data": {
      "text/html": [
       "<div>\n",
       "<style scoped>\n",
       "    .dataframe tbody tr th:only-of-type {\n",
       "        vertical-align: middle;\n",
       "    }\n",
       "\n",
       "    .dataframe tbody tr th {\n",
       "        vertical-align: top;\n",
       "    }\n",
       "\n",
       "    .dataframe thead th {\n",
       "        text-align: right;\n",
       "    }\n",
       "</style>\n",
       "<table border=\"1\" class=\"dataframe\">\n",
       "  <thead>\n",
       "    <tr style=\"text-align: right;\">\n",
       "      <th></th>\n",
       "      <th>stock</th>\n",
       "      <th>date</th>\n",
       "      <th>time</th>\n",
       "      <th>heading</th>\n",
       "    </tr>\n",
       "  </thead>\n",
       "  <tbody>\n",
       "    <tr>\n",
       "      <th>0</th>\n",
       "      <td>AAPL</td>\n",
       "      <td>Mar-12-21</td>\n",
       "      <td>06:02PM</td>\n",
       "      <td>These Are The Best Robinhood Stocks To Buy Or ...</td>\n",
       "    </tr>\n",
       "    <tr>\n",
       "      <th>1</th>\n",
       "      <td>AAPL</td>\n",
       "      <td>Mar-12-21</td>\n",
       "      <td>05:45PM</td>\n",
       "      <td>Apple (AAPL) Stock Sinks As Market Gains: What...</td>\n",
       "    </tr>\n",
       "    <tr>\n",
       "      <th>2</th>\n",
       "      <td>AAPL</td>\n",
       "      <td>Mar-12-21</td>\n",
       "      <td>05:45PM</td>\n",
       "      <td>How to Play the Valuation Gap Between Growth a...</td>\n",
       "    </tr>\n",
       "    <tr>\n",
       "      <th>3</th>\n",
       "      <td>AAPL</td>\n",
       "      <td>Mar-12-21</td>\n",
       "      <td>03:20PM</td>\n",
       "      <td>Apple is a force for good, Facebook not so muc...</td>\n",
       "    </tr>\n",
       "    <tr>\n",
       "      <th>4</th>\n",
       "      <td>AAPL</td>\n",
       "      <td>Mar-12-21</td>\n",
       "      <td>02:50PM</td>\n",
       "      <td>Is Apple Stock A Buy Ahead Of Possible Spring ...</td>\n",
       "    </tr>\n",
       "  </tbody>\n",
       "</table>\n",
       "</div>"
      ],
      "text/plain": [
       "  stock       date       time  \\\n",
       "0  AAPL  Mar-12-21  06:02PM     \n",
       "1  AAPL  Mar-12-21  05:45PM     \n",
       "2  AAPL  Mar-12-21  05:45PM     \n",
       "3  AAPL  Mar-12-21  03:20PM     \n",
       "4  AAPL  Mar-12-21  02:50PM     \n",
       "\n",
       "                                             heading  \n",
       "0  These Are The Best Robinhood Stocks To Buy Or ...  \n",
       "1  Apple (AAPL) Stock Sinks As Market Gains: What...  \n",
       "2  How to Play the Valuation Gap Between Growth a...  \n",
       "3  Apple is a force for good, Facebook not so muc...  \n",
       "4  Is Apple Stock A Buy Ahead Of Possible Spring ...  "
      ]
     },
     "execution_count": 94,
     "metadata": {},
     "output_type": "execute_result"
    }
   ],
   "source": [
    "#View first four rows\n",
    "news_df.head()"
   ]
  },
  {
   "cell_type": "markdown",
   "metadata": {},
   "source": [
    "#### **Perform Sentiment Analysis with Vader Lexicon**"
   ]
  },
  {
   "cell_type": "code",
   "execution_count": 104,
   "metadata": {},
   "outputs": [],
   "source": [
    "#Package\n",
    "from nltk.sentiment.vader import SentimentIntensityAnalyzer\n",
    "\n",
    "vader = SentimentIntensityAnalyzer()\n",
    "lambda_func = lambda title: vader.polarity_scores(title)['compound']\n",
    "\n",
    "news_df['compound score'] = news_df['heading'].apply(lambda_func)\n",
    "news_df['date'] = pd.to_datetime(news_df.date).dt.date"
   ]
  },
  {
   "cell_type": "code",
   "execution_count": 96,
   "metadata": {},
   "outputs": [
    {
     "data": {
      "text/html": [
       "<div>\n",
       "<style scoped>\n",
       "    .dataframe tbody tr th:only-of-type {\n",
       "        vertical-align: middle;\n",
       "    }\n",
       "\n",
       "    .dataframe tbody tr th {\n",
       "        vertical-align: top;\n",
       "    }\n",
       "\n",
       "    .dataframe thead th {\n",
       "        text-align: right;\n",
       "    }\n",
       "</style>\n",
       "<table border=\"1\" class=\"dataframe\">\n",
       "  <thead>\n",
       "    <tr style=\"text-align: right;\">\n",
       "      <th></th>\n",
       "      <th>stock</th>\n",
       "      <th>date</th>\n",
       "      <th>time</th>\n",
       "      <th>heading</th>\n",
       "      <th>compound score</th>\n",
       "    </tr>\n",
       "  </thead>\n",
       "  <tbody>\n",
       "    <tr>\n",
       "      <th>0</th>\n",
       "      <td>AAPL</td>\n",
       "      <td>2021-03-12</td>\n",
       "      <td>06:02PM</td>\n",
       "      <td>These Are The Best Robinhood Stocks To Buy Or ...</td>\n",
       "      <td>0.6369</td>\n",
       "    </tr>\n",
       "    <tr>\n",
       "      <th>1</th>\n",
       "      <td>AAPL</td>\n",
       "      <td>2021-03-12</td>\n",
       "      <td>05:45PM</td>\n",
       "      <td>Apple (AAPL) Stock Sinks As Market Gains: What...</td>\n",
       "      <td>0.3400</td>\n",
       "    </tr>\n",
       "    <tr>\n",
       "      <th>2</th>\n",
       "      <td>AAPL</td>\n",
       "      <td>2021-03-12</td>\n",
       "      <td>05:45PM</td>\n",
       "      <td>How to Play the Valuation Gap Between Growth a...</td>\n",
       "      <td>0.7506</td>\n",
       "    </tr>\n",
       "    <tr>\n",
       "      <th>3</th>\n",
       "      <td>AAPL</td>\n",
       "      <td>2021-03-12</td>\n",
       "      <td>03:20PM</td>\n",
       "      <td>Apple is a force for good, Facebook not so muc...</td>\n",
       "      <td>0.4404</td>\n",
       "    </tr>\n",
       "    <tr>\n",
       "      <th>4</th>\n",
       "      <td>AAPL</td>\n",
       "      <td>2021-03-12</td>\n",
       "      <td>02:50PM</td>\n",
       "      <td>Is Apple Stock A Buy Ahead Of Possible Spring ...</td>\n",
       "      <td>0.0000</td>\n",
       "    </tr>\n",
       "  </tbody>\n",
       "</table>\n",
       "</div>"
      ],
      "text/plain": [
       "  stock        date       time  \\\n",
       "0  AAPL  2021-03-12  06:02PM     \n",
       "1  AAPL  2021-03-12  05:45PM     \n",
       "2  AAPL  2021-03-12  05:45PM     \n",
       "3  AAPL  2021-03-12  03:20PM     \n",
       "4  AAPL  2021-03-12  02:50PM     \n",
       "\n",
       "                                             heading  compound score  \n",
       "0  These Are The Best Robinhood Stocks To Buy Or ...          0.6369  \n",
       "1  Apple (AAPL) Stock Sinks As Market Gains: What...          0.3400  \n",
       "2  How to Play the Valuation Gap Between Growth a...          0.7506  \n",
       "3  Apple is a force for good, Facebook not so muc...          0.4404  \n",
       "4  Is Apple Stock A Buy Ahead Of Possible Spring ...          0.0000  "
      ]
     },
     "execution_count": 96,
     "metadata": {},
     "output_type": "execute_result"
    }
   ],
   "source": [
    "#View first four rows\n",
    "news_df.head()"
   ]
  },
  {
   "cell_type": "code",
   "execution_count": 99,
   "metadata": {},
   "outputs": [
    {
     "name": "stdout",
     "output_type": "stream",
     "text": [
      "The average_comp_score for AAPL is 0.076643\n"
     ]
    }
   ],
   "source": [
    "#Average Compound Score \n",
    "score_count = 0\n",
    "comp_score = 0\n",
    "\n",
    "for score in news_df['compound score']:\n",
    "    comp_score += score\n",
    "    score_count += 1\n",
    "\n",
    "average_comp_score = comp_score / score_count\n",
    "print(f\"The average_comp_score for {stock} is {average_comp_score}\")"
   ]
  },
  {
   "cell_type": "markdown",
   "metadata": {},
   "source": [
    "#### **What This Means**"
   ]
  },
  {
   "cell_type": "markdown",
   "metadata": {},
   "source": [
    "Per the Vader documentationm, the compound score is a metric that calculates the sum of all the lexicon ratings which have been normalized between -1(most extreme negative) and +1 (most extreme positive). In the case above, the average compound score is 0.076643, meaning that AAPL is leaning towards having positive sentiment based on the text within the Finviz news article headings."
   ]
  },
  {
   "cell_type": "code",
   "execution_count": 107,
   "metadata": {},
   "outputs": [
    {
     "data": {
      "image/png": "[encoded data removed]",
      "text/plain": [
       "<Figure size 432x288 with 1 Axes>"
      ]
     },
     "metadata": {
      "needs_background": "light"
     },
     "output_type": "display_data"
    }
   ],
   "source": [
    "#Package\n",
    "import matplotlib.pyplot as plt\n",
    "\n",
    "mean_df = news_df.groupby(['date']).mean()\n",
    "plt.plot(mean_df, color = 'blue')\n",
    "plt.title(f\"{stock} Mean Compound Score Over Time\")\n",
    "plt.axhline(0, color = 'red')\n",
    "plt.savefig(f'08. {stock} Compund Score.png',format='png', dpi = 200, bbox_inches = 'tight', orientation = 'landscape')"
   ]
  },
  {
   "cell_type": "code",
   "execution_count": null,
   "metadata": {},
   "outputs": [],
   "source": []
  }
 ],
 "metadata": {
  "kernelspec": {
   "display_name": "Python 3",
   "language": "python",
   "name": "python3"
  },
  "language_info": {
   "codemirror_mode": {
    "name": "ipython",
    "version": 3
   },
   "file_extension": ".py",
   "mimetype": "text/x-python",
   "name": "python",
   "nbconvert_exporter": "python",
   "pygments_lexer": "ipython3",
   "version": "3.8.5"
  }
 },
 "nbformat": 4,
 "nbformat_minor": 4
}
