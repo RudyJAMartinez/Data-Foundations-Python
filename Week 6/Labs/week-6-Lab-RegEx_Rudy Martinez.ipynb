{
 "cells": [
  {
   "cell_type": "markdown",
   "metadata": {},
   "source": [
    "# Week 6 Lab Exercises\n",
    "\n",
    "Blank notebook to be used for class exercises.\n",
    "\n",
    "Name: Rudy Martinez\n",
    "\n",
    "abc123: Lpe538"
   ]
  },
  {
   "cell_type": "markdown",
   "metadata": {},
   "source": [
    "## Exercise 1\n",
    "\n",
    "Write code to loop over mbox.txt and counts, and prints, the number of lines thatc ontain the “From:” substring.  Use the **re** package for this exercise.\n",
    "\n",
    "file path: \"./mbox.txt\""
   ]
  },
  {
   "cell_type": "code",
   "execution_count": 17,
   "metadata": {},
   "outputs": [],
   "source": [
    "def text_counter(file_name):\n",
    "    import re\n",
    "\n",
    "    from_count = 0\n",
    "\n",
    "    mbox_file = open(file_name)\n",
    "    for word in mbox_file:\n",
    "        if re.search('From:', word):\n",
    "            from_count += 1\n",
    "    mbox_file.close()\n",
    "\n",
    "    return from_count"
   ]
  },
  {
   "cell_type": "code",
   "execution_count": 18,
   "metadata": {},
   "outputs": [
    {
     "name": "stdout",
     "output_type": "stream",
     "text": [
      "The number of times 'From:' is in the text is 1797 times\n"
     ]
    }
   ],
   "source": [
    "answer = text_counter('mbox.txt')\n",
    "print(f\"The number of times 'From:' is in the text is {answer} times\")"
   ]
  },
  {
   "cell_type": "markdown",
   "metadata": {},
   "source": [
    "## Exercise 2\n",
    "\n",
    "Write a program to look for lines of the form in the “mbox.txt” file:\n",
    "\n",
    "New Revision:  39772\n",
    "\n",
    "Extract the number from each of the lines using a regular expression andthe findall() method.  Compute and print the average of the numbers.\n",
    "\n",
    "file path: \"./mbox.txt\""
   ]
  },
  {
   "cell_type": "code",
   "execution_count": 88,
   "metadata": {},
   "outputs": [],
   "source": [
    "def num_extract(file_name):\n",
    "    import re \n",
    "    \n",
    "    match_list = []\n",
    "    extract = 0\n",
    "    count = 0\n",
    "    \n",
    "    mbox_file = open(file_name)\n",
    "    for word in mbox_file:\n",
    "        if re.findall(r'New Revision:', word):\n",
    "            match_list.append(word)\n",
    "    \n",
    "    for item in match_list:\n",
    "        for num in item.split():\n",
    "            if str(num).isdigit():\n",
    "                extract += int(num)\n",
    "                count += 1\n",
    "    \n",
    "    average = extract / count\n",
    "    \n",
    "    return f\"The average of the numbers is: {round(average, 2)}\"\n",
    "\n",
    "    mbox_file.close()"
   ]
  },
  {
   "cell_type": "code",
   "execution_count": 89,
   "metadata": {},
   "outputs": [
    {
     "data": {
      "text/plain": [
       "'The average of the numbers is: 38549.79'"
      ]
     },
     "execution_count": 89,
     "metadata": {},
     "output_type": "execute_result"
    }
   ],
   "source": [
    "answer = num_extract('mbox.txt')\n",
    "answer"
   ]
  },
  {
   "cell_type": "markdown",
   "metadata": {},
   "source": [
    "## Exercise 3\n",
    "\n",
    "For the following string:\n",
    "\n",
    "text = \"any machine with more than 6 GHz and 500 GB of disk space for less than \\$999.99\"\n",
    "\n",
    "Develop a regular expression that will extract **all** of the following information:\n",
    "- 6 GHz\n",
    "- 500 GB\n",
    "- Mac\n",
    "- $999.99\n",
    "\n",
    "Hint: Use re.findall\n",
    "\n",
    "NOTE: You should have code that is general (e.g., the regex would extrac \"Mac\" even though it does not appear in the string)"
   ]
  },
  {
   "cell_type": "code",
   "execution_count": 128,
   "metadata": {},
   "outputs": [],
   "source": [
    "text = \"any machine with more than 6 GHz and 500 GB of disk space for less than $999.99\""
   ]
  },
  {
   "cell_type": "code",
   "execution_count": 129,
   "metadata": {},
   "outputs": [],
   "source": [
    "def str_extract(text):\n",
    "    import re\n",
    "    \n",
    "    matches = re.findall(r\"(\\d+\\s[Gg][Hh]z|\\d+\\s[Gg][Bb]|Mac|\\$\\d+(?:\\.\\d+)?)\", text)\n",
    "    \n",
    "    return matches"
   ]
  },
  {
   "cell_type": "code",
   "execution_count": 130,
   "metadata": {},
   "outputs": [
    {
     "data": {
      "text/plain": [
       "['6 GHz', '500 GB', '$999.99']"
      ]
     },
     "execution_count": 130,
     "metadata": {},
     "output_type": "execute_result"
    }
   ],
   "source": [
    "answer = str_extract(text)\n",
    "answer"
   ]
  },
  {
   "cell_type": "markdown",
   "metadata": {},
   "source": [
    "## Exercise 4\n",
    "\n",
    "Complete the lessons available at https://regexone.com/. Take a screenshot when you finish, and uplaod it along with this lab file."
   ]
  }
 ],
 "metadata": {
  "kernelspec": {
   "display_name": "Python 3",
   "language": "python",
   "name": "python3"
  },
  "language_info": {
   "codemirror_mode": {
    "name": "ipython",
    "version": 3
   },
   "file_extension": ".py",
   "mimetype": "text/x-python",
   "name": "python",
   "nbconvert_exporter": "python",
   "pygments_lexer": "ipython3",
   "version": "3.8.5"
  }
 },
 "nbformat": 4,
 "nbformat_minor": 4
}
