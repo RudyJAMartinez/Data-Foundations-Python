{
 "cells": [
  {
   "cell_type": "code",
   "execution_count": 3,
   "metadata": {},
   "outputs": [
    {
     "data": {
      "text/plain": [
       "4"
      ]
     },
     "execution_count": 3,
     "metadata": {},
     "output_type": "execute_result"
    }
   ],
   "source": [
    "a = set()\n",
    "b = 'aaabbccd'\n",
    "\n",
    "for i in b:\n",
    "    a.add(i)\n",
    "    \n",
    "c = len(a)\n",
    "c"
   ]
  },
  {
   "cell_type": "code",
   "execution_count": 6,
   "metadata": {},
   "outputs": [
    {
     "data": {
      "text/plain": [
       "3"
      ]
     },
     "execution_count": 6,
     "metadata": {},
     "output_type": "execute_result"
    }
   ],
   "source": [
    "a = 0\n",
    "b = 0\n",
    "for i in range(2,10,3):\n",
    "    a += i * 2\n",
    "    b += 1\n",
    "    \n",
    "b"
   ]
  },
  {
   "cell_type": "code",
   "execution_count": 15,
   "metadata": {},
   "outputs": [],
   "source": [
    "class Parent:\n",
    "    temp = 0\n",
    "    def __init__(self):\n",
    "        self.temp += 1\n",
    "        \n",
    "class Child(Parent):\n",
    "    def run(self):\n",
    "        self.temp += 1\n",
    "    \n",
    "first_child = Child()\n",
    "second_child = Child()\n",
    "\n",
    "first_child.run()\n",
    "first_child.run()"
   ]
  },
  {
   "cell_type": "code",
   "execution_count": 47,
   "metadata": {},
   "outputs": [
    {
     "data": {
      "text/plain": [
       "array([[0., 0., 0.],\n",
       "       [0., 0., 0.],\n",
       "       [0., 0., 0.],\n",
       "       [0., 0., 0.],\n",
       "       [0., 0., 0.]])"
      ]
     },
     "execution_count": 47,
     "metadata": {},
     "output_type": "execute_result"
    }
   ],
   "source": [
    "import numpy as np\n",
    "A = np.zeros((5, 3))\n",
    "A"
   ]
  },
  {
   "cell_type": "code",
   "execution_count": 18,
   "metadata": {},
   "outputs": [
    {
     "name": "stdout",
     "output_type": "stream",
     "text": [
      "a\n",
      "1\n",
      "4\n"
     ]
    }
   ],
   "source": [
    "import csv\n",
    "iFile = open('untitled.csv')\n",
    "ICSV = csv.reader(iFile, delimiter = \";\")\n",
    "\n",
    "for row in ICSV:\n",
    "    print(row[0])\n",
    "    \n",
    "iFile.close()"
   ]
  },
  {
   "cell_type": "code",
   "execution_count": 20,
   "metadata": {},
   "outputs": [
    {
     "name": "stdout",
     "output_type": "stream",
     "text": [
      "4\n"
     ]
    }
   ],
   "source": [
    "n = 100\n",
    "count = 0\n",
    "\n",
    "while n > 10:\n",
    "    n = n/2\n",
    "    count += 1\n",
    "    \n",
    "print(count)"
   ]
  },
  {
   "cell_type": "code",
   "execution_count": 21,
   "metadata": {},
   "outputs": [
    {
     "data": {
      "text/plain": [
       "10"
      ]
     },
     "execution_count": 21,
     "metadata": {},
     "output_type": "execute_result"
    }
   ],
   "source": [
    "a = \"Hello\"\n",
    "b = a * 2\n",
    "c = len(b)\n",
    "c"
   ]
  },
  {
   "cell_type": "code",
   "execution_count": 24,
   "metadata": {},
   "outputs": [
    {
     "name": "stdout",
     "output_type": "stream",
     "text": [
      "5\n"
     ]
    }
   ],
   "source": [
    "def div2(n):\n",
    "    return int(n/2)\n",
    "\n",
    "def count(n):\n",
    "    return div2(n)\n",
    "\n",
    "num = count(10)\n",
    "a = 0\n",
    "check = 0\n",
    "\n",
    "for i in range(num):\n",
    "    a += i * 2\n",
    "    check += 1\n",
    "\n",
    "print(check)"
   ]
  },
  {
   "cell_type": "code",
   "execution_count": 25,
   "metadata": {},
   "outputs": [
    {
     "data": {
      "text/plain": [
       "2"
      ]
     },
     "execution_count": 25,
     "metadata": {},
     "output_type": "execute_result"
    }
   ],
   "source": [
    "File = open('file.txt', 'w')\n",
    "File.write('1\\n')\n",
    "File.write('2')\n",
    "File.write('3')\n",
    "File.close()\n",
    "\n",
    "tmp = 0\n",
    "iFile = open('file.txt')\n",
    "for line in iFile:\n",
    "    tmp += 1\n",
    "iFile.close()\n",
    "\n",
    "tmp"
   ]
  },
  {
   "cell_type": "code",
   "execution_count": 28,
   "metadata": {},
   "outputs": [
    {
     "data": {
      "text/plain": [
       "bool"
      ]
     },
     "execution_count": 28,
     "metadata": {},
     "output_type": "execute_result"
    }
   ],
   "source": [
    "A = \"ABC\" == 123\n",
    "type(A)"
   ]
  },
  {
   "cell_type": "code",
   "execution_count": 32,
   "metadata": {},
   "outputs": [
    {
     "name": "stdout",
     "output_type": "stream",
     "text": [
      "True\n",
      "True\n"
     ]
    }
   ],
   "source": [
    "x = \"Midterm\"\n",
    "\n",
    "print(\"Midterm\" in x)\n",
    "print(x == \"Midterm\")"
   ]
  },
  {
   "cell_type": "code",
   "execution_count": 34,
   "metadata": {},
   "outputs": [
    {
     "data": {
      "text/plain": [
       "int"
      ]
     },
     "execution_count": 34,
     "metadata": {},
     "output_type": "execute_result"
    }
   ],
   "source": [
    "A = int(1/2)\n",
    "type(A)"
   ]
  },
  {
   "cell_type": "code",
   "execution_count": 46,
   "metadata": {},
   "outputs": [
    {
     "data": {
      "text/plain": [
       "3"
      ]
     },
     "execution_count": 46,
     "metadata": {},
     "output_type": "execute_result"
    }
   ],
   "source": [
    "class Parent:\n",
    "    temp = 0\n",
    "    def __init__(self):\n",
    "        self.temp += 1\n",
    "\n",
    "class Child(Parent):\n",
    "    def run(self):\n",
    "        self.temp += 1\n",
    "\n",
    "test = Child()\n",
    "test.run()\n",
    "test.run()\n",
    "\n",
    "test = test.temp\n",
    "test"
   ]
  },
  {
   "cell_type": "code",
   "execution_count": 43,
   "metadata": {},
   "outputs": [
    {
     "data": {
      "text/plain": [
       "'BAA'"
      ]
     },
     "execution_count": 43,
     "metadata": {},
     "output_type": "execute_result"
    }
   ],
   "source": [
    "def abc():\n",
    "    return \"A\"\n",
    "\n",
    "def xyz():\n",
    "    return \"B\"\n",
    "\n",
    "tmp = xyz()\n",
    "tmp += abc()\n",
    "tmp += abc()\n",
    "\n",
    "tmp"
   ]
  },
  {
   "cell_type": "code",
   "execution_count": 44,
   "metadata": {},
   "outputs": [
    {
     "data": {
      "text/plain": [
       "float"
      ]
     },
     "execution_count": 44,
     "metadata": {},
     "output_type": "execute_result"
    }
   ],
   "source": [
    "A = 3/2\n",
    "type(A)"
   ]
  },
  {
   "cell_type": "code",
   "execution_count": 45,
   "metadata": {},
   "outputs": [
    {
     "data": {
      "text/plain": [
       "10"
      ]
     },
     "execution_count": 45,
     "metadata": {},
     "output_type": "execute_result"
    }
   ],
   "source": [
    "a = \"Hello\"\n",
    "b = a * 2\n",
    "c = len(b)\n",
    "c"
   ]
  },
  {
   "cell_type": "code",
   "execution_count": 48,
   "metadata": {},
   "outputs": [
    {
     "data": {
      "text/plain": [
       "3"
      ]
     },
     "execution_count": 48,
     "metadata": {},
     "output_type": "execute_result"
    }
   ],
   "source": [
    "a = 0\n",
    "count = 0\n",
    "for i in range(2, 10, 3):\n",
    "    a += i*2\n",
    "    count += 1\n",
    "\n",
    "count"
   ]
  },
  {
   "cell_type": "code",
   "execution_count": 49,
   "metadata": {},
   "outputs": [
    {
     "data": {
      "text/plain": [
       "'BAA'"
      ]
     },
     "execution_count": 49,
     "metadata": {},
     "output_type": "execute_result"
    }
   ],
   "source": [
    "def abc():\n",
    "    return \"A\"\n",
    "\n",
    "def xyz():\n",
    "    return \"B\"\n",
    "\n",
    "tmp = xyz()\n",
    "tmp += abc()\n",
    "tmp += abc()\n",
    "\n",
    "tmp"
   ]
  },
  {
   "cell_type": "code",
   "execution_count": 50,
   "metadata": {},
   "outputs": [
    {
     "data": {
      "text/plain": [
       "4"
      ]
     },
     "execution_count": 50,
     "metadata": {},
     "output_type": "execute_result"
    }
   ],
   "source": [
    "n = 100\n",
    "count = 0\n",
    "\n",
    "while n > 10:\n",
    "    n = n/2\n",
    "    count += 1\n",
    "\n",
    "count"
   ]
  },
  {
   "cell_type": "code",
   "execution_count": null,
   "metadata": {},
   "outputs": [],
   "source": [
    "'''Print on one line the numbers from 1 to max_number that are divisible by 32\n",
    "   For example,\n",
    "   print_div_by_32(32) prints: 32\n",
    "   print_div_by_32(128) prints: 32 64 96 128 '''"
   ]
  },
  {
   "cell_type": "code",
   "execution_count": null,
   "metadata": {},
   "outputs": [],
   "source": [
    "def print_div_by_32(num):\n",
    "    if(num%32==0):"
   ]
  },
  {
   "cell_type": "code",
   "execution_count": 53,
   "metadata": {},
   "outputs": [
    {
     "name": "stdout",
     "output_type": "stream",
     "text": [
      "1\n"
     ]
    }
   ],
   "source": [
    "class Parent:\n",
    "    temp = 0\n",
    "    def __init__(self):\n",
    "        self.temp += 1\n",
    "\n",
    "class Child(Parent):\n",
    "    def run(self):\n",
    "        self.temp += 1\n",
    "\n",
    "first_child = Child()\n",
    "second_child = Child()\n",
    "first_child.run()\n",
    "first_child.run()\n",
    "\n",
    "print(second_child.temp)"
   ]
  },
  {
   "cell_type": "code",
   "execution_count": 54,
   "metadata": {},
   "outputs": [
    {
     "data": {
      "text/plain": [
       "4"
      ]
     },
     "execution_count": 54,
     "metadata": {},
     "output_type": "execute_result"
    }
   ],
   "source": [
    "a = set()\n",
    "b = \"aaabbccd\"\n",
    "for i in b:\n",
    "    a.add(i)\n",
    "c = len(a)\n",
    "c"
   ]
  },
  {
   "cell_type": "code",
   "execution_count": 55,
   "metadata": {},
   "outputs": [
    {
     "data": {
      "text/plain": [
       "5"
      ]
     },
     "execution_count": 55,
     "metadata": {},
     "output_type": "execute_result"
    }
   ],
   "source": [
    "def div2(n):\n",
    "    return int(n / 2)\n",
    "\n",
    "def count(n):\n",
    "    return div2(n)\n",
    "\n",
    "num = count(10)\n",
    "a = 0\n",
    "check = 0\n",
    "for i in range(num):\n",
    "    a += i * 2\n",
    "    check += 1\n",
    "\n",
    "check"
   ]
  },
  {
   "cell_type": "code",
   "execution_count": 57,
   "metadata": {},
   "outputs": [
    {
     "data": {
      "text/plain": [
       "int"
      ]
     },
     "execution_count": 57,
     "metadata": {},
     "output_type": "execute_result"
    }
   ],
   "source": [
    "B = \"ABC\"\n",
    "A = len(B)\n",
    "type(A)"
   ]
  },
  {
   "cell_type": "code",
   "execution_count": null,
   "metadata": {},
   "outputs": [],
   "source": [
    "class Parent:\n",
    "    temp = 0\n",
    "    def __init__(self):\n",
    "        self.temp += 1\n",
    "\n",
    "class Child(Parent):\n",
    "    def run(self):\n",
    "        self.temp += 1\n",
    "\n",
    "first_child = Child()\n",
    "second_child = Child()\n",
    "first_child.run()\n",
    "first_child.run()"
   ]
  },
  {
   "cell_type": "code",
   "execution_count": null,
   "metadata": {},
   "outputs": [],
   "source": [
    "def to_dict( name, phone_number ):\n",
    "'''Return a dictionary that associates the key \"name\" with name and \"phone\" with phone_number\n",
    "   For example,\n",
    "   to_dict(\"John\", \"555-5555\") returns: {\"name\": \"John\", \"phone\": \"555-5555\"}\n",
    "   to_dict(\"Jane\", \"111-1111\") returns: {\"name\": \"Jane\", \"phone\": \"111-1111\"} '''"
   ]
  },
  {
   "cell_type": "code",
   "execution_count": 62,
   "metadata": {},
   "outputs": [],
   "source": [
    "def to_dict(name, phone_number):\n",
    "    contact = {\"name\": name, \"phone\": phone_number}\n",
    "    \n",
    "    return contact\n",
    "    \n",
    "test_1 = to_dict(\"John\", \"555-5555\")\n",
    "test_2 = to_dict(\"Jane\", \"111-1111\")"
   ]
  },
  {
   "cell_type": "code",
   "execution_count": 63,
   "metadata": {},
   "outputs": [
    {
     "name": "stdout",
     "output_type": "stream",
     "text": [
      "{'name': 'John', 'phone': '555-5555'}\n",
      "{'name': 'Jane', 'phone': '111-1111'}\n"
     ]
    }
   ],
   "source": [
    "print(test_1)\n",
    "print(test_2)"
   ]
  },
  {
   "cell_type": "code",
   "execution_count": null,
   "metadata": {},
   "outputs": [],
   "source": [
    "def print_mean( number_list ):\n",
    "'''Print a the mean (average) of a list of numbers in number_list (DO NOT USE ANY EXTERNAL PACKAGES OR LIBRARIES). The function should not return anything.\n",
    "   For example,\n",
    "   print_mean( [1, 2 ] ) prints: 1.5\n",
    "   print_mean( [ 6, 8, 22] ) prints: 12 '''"
   ]
  },
  {
   "cell_type": "code",
   "execution_count": 64,
   "metadata": {},
   "outputs": [],
   "source": [
    "def print_mean(number_list):\n",
    "    count = 0\n",
    "    \n",
    "    for num in number_list:\n",
    "        count += num\n",
    "    \n",
    "    average = count / len(number_list)\n",
    "    \n",
    "    print(average)"
   ]
  },
  {
   "cell_type": "code",
   "execution_count": null,
   "metadata": {},
   "outputs": [],
   "source": [
    "print_mean([1, 2 ] ) prints: 1.5\n",
    "print_mean( [ 6, 8, 22] ) prints: 12 '''"
   ]
  }
 ],
 "metadata": {
  "kernelspec": {
   "display_name": "Python 3",
   "language": "python",
   "name": "python3"
  },
  "language_info": {
   "codemirror_mode": {
    "name": "ipython",
    "version": 3
   },
   "file_extension": ".py",
   "mimetype": "text/x-python",
   "name": "python",
   "nbconvert_exporter": "python",
   "pygments_lexer": "ipython3",
   "version": "3.8.5"
  }
 },
 "nbformat": 4,
 "nbformat_minor": 4
}
