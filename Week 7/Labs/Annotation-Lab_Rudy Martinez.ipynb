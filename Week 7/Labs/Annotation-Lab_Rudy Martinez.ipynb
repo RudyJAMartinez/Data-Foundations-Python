{
 "cells": [
  {
   "cell_type": "markdown",
   "metadata": {},
   "source": [
    "# Python: Annotation\n",
    "\n",
    "Blank notebook to be used for class exercises."
   ]
  },
  {
   "cell_type": "markdown",
   "metadata": {},
   "source": [
    "## Exercise 1\n",
    "\n",
    "Complete the Sentiment Annotation Survey on Blackboard. \n"
   ]
  },
  {
   "cell_type": "markdown",
   "metadata": {},
   "source": [
    "## Exercise 2\n",
    "\n",
    "Judge the annotations in following Data:\n",
    "\n",
    "sentiment.txt\n",
    "\n",
    "You are the judge. Look over the annotations and come up with the following:\n",
    "- What is your judgment for the correct entity + sentiment annotation?\n",
    "- How would you amend the annotation guidelines to solicit more consistent annotations?\n",
    "\n",
    "While judging the annotations, keep track of them below:\n",
    "\n",
    "1. **Target:** ISIS, **Sentiment:** Negative\n",
    "2. **Target:** US Senate , **Sentiment:** Mixed\n",
    "3. **Target:** Major Meeting, **Sentiment:** Unknown\n",
    "4. **Target:** Sean Spicer, **Sentiment:** Mixed\n",
    "5. **Target:** The West, **Sentiment:** Positive\n",
    "6. **Target:** Fake News Media, **Sentiment:** Negative\n",
    "7. **Target:** Obamacare Victims, **Sentiment:** Negative\n",
    "8. **Target:** Ivanks, **Sentiment:** Positive\n",
    "9. **Target:** ISIS, **Sentiment:** Positive\n",
    "10. **Target:** Emmanuel Macron, **Sentiment:** Positive\n",
    "11. **Target:** VA State Police, **Sentiment:** Positive\n",
    "12. **Target:** Sailors, **Sentiment:** Positive\n",
    "13. **Target:** Fake News Story, **Sentiment:** Negative\n",
    "14. **Target:** President Trump, **Sentiment:** Unknown\n",
    "15. **Target:** Democrat Jon Ossof, **Sentiment:** Negative\n",
    "16. **Target:** Charlottesville, **Sentiment:** Negative\n",
    "17. **Target:** Joint Base Andrews , **Sentiment:** Unknown\n",
    "18. **Target:** Brave Men and Women , **Sentiment:** Positive\n",
    "19. **Target:** America , **Sentiment:** Positive\n",
    "20. **Target:** #NABTU2017, **Sentiment:** Positive\n",
    "\n",
    "\n",
    "How many of your judgements match the majority view?"
   ]
  },
  {
   "cell_type": "markdown",
   "metadata": {},
   "source": [
    "## Exercise 3\n",
    "\n",
    "Manually calculate Cohen's kappa for the tables in the slides and put your answers below:\n",
    "\n",
    "Answers here"
   ]
  },
  {
   "cell_type": "code",
   "execution_count": 8,
   "metadata": {},
   "outputs": [],
   "source": [
    "#kappa question 1\n",
    "po_1 = (25 + 25)/100\n",
    "pe_1 = (50/100) * (50/100) + (50/100) * (50/100)\n",
    "numerator_1 = po_1 - pe_1\n",
    "denominator_1 = 1 - pe_1\n",
    "kappa_1 = numerator_1 / denominator_1\n",
    "\n",
    "#kappa question 2\n",
    "po_2 = (50 + 50)/100\n",
    "pe_2 = (50/100) * (50/100) + (50/100) * (50/100)\n",
    "numerator_2 = po_2 - pe_2\n",
    "denominator_2 = 1 - pe_2\n",
    "kappa_2 = numerator_2 / denominator_2\n",
    "\n",
    "#kappa question 3\n",
    "po_3 = (0 + 0)/100\n",
    "pe_3 = (50/100) * (50/100) + (50/100) * (50/100)\n",
    "numerator_3 = po_3 - pe_3\n",
    "denominator_3 = 1 - pe_3\n",
    "kappa_3 = numerator_3 / denominator_3"
   ]
  },
  {
   "cell_type": "code",
   "execution_count": 9,
   "metadata": {},
   "outputs": [
    {
     "name": "stdout",
     "output_type": "stream",
     "text": [
      "0.0\n",
      "1.0\n",
      "-1.0\n"
     ]
    }
   ],
   "source": [
    "print(kappa_1)\n",
    "print(kappa_2)\n",
    "print(kappa_3)"
   ]
  },
  {
   "cell_type": "markdown",
   "metadata": {},
   "source": [
    "## Exercise 4\n",
    "\n",
    "Write code to calculate and print the cohen's kappa between rater1 and rater2.\n",
    "\n",
    "Hint: You will need to create the confusion matrix (matrix of how many times each rater agrees for each item)"
   ]
  },
  {
   "cell_type": "code",
   "execution_count": 12,
   "metadata": {},
   "outputs": [],
   "source": [
    "rater1 = ['yes','no','yes','yes','yes','yes','no','yes','yes']\n",
    "rater2 = ['yes','no','no','yes','yes','yes','yes','yes','yes']"
   ]
  },
  {
   "cell_type": "code",
   "execution_count": 13,
   "metadata": {},
   "outputs": [],
   "source": [
    "r1_yes_r2_yes = 0 \n",
    "r1_no_r2_no = 0\n",
    "r1_no_r2_yes = 0\n",
    "r1_yes_r2_no = 0\n",
    "\n",
    "for r1, r2 in zip(rater1, rater2):\n",
    "    if r1 == 'yes' and r2 == 'yes':\n",
    "        r1_yes_r2_yes += 1\n",
    "    elif r1 == 'no' and r2 == 'no':\n",
    "        r1_no_r2_no += 1\n",
    "    elif r1 == 'no' and r2 == 'yes':\n",
    "        r1_no_r2_yes += 1\n",
    "    else:\n",
    "        r1_yes_r2_no += 1"
   ]
  },
  {
   "cell_type": "code",
   "execution_count": 15,
   "metadata": {},
   "outputs": [
    {
     "name": "stdout",
     "output_type": "stream",
     "text": [
      "6 1 1 1\n"
     ]
    }
   ],
   "source": [
    "print(r1_yes_r2_yes, r1_no_r2_no, r1_no_r2_yes, r1_yes_r2_no)"
   ]
  },
  {
   "cell_type": "code",
   "execution_count": 16,
   "metadata": {},
   "outputs": [],
   "source": [
    "po = (r1_yes_r2_yes + r1_no_r2_no) / (r1_yes_r2_yes + r1_no_r2_no + r1_no_r2_yes + r1_yes_r2_no)\n",
    "p_r1_yes = (r1_yes_r2_yes + r1_yes_r2_no) / (r1_yes_r2_yes + r1_no_r2_no + r1_no_r2_yes + r1_yes_r2_no)\n",
    "p_r1_no = (r1_no_r2_no + r1_no_r2_yes) / (r1_yes_r2_yes + r1_no_r2_no + r1_no_r2_yes + r1_yes_r2_no)\n",
    "\n",
    "p_r2_yes = (r1_yes_r2_yes + r1_no_r2_yes) / (r1_yes_r2_yes + r1_no_r2_no + r1_no_r2_yes + r1_yes_r2_no)\n",
    "p_r2_no = (r1_no_r2_no + r1_yes_r2_no) / (r1_yes_r2_yes + r1_no_r2_no + r1_no_r2_yes + r1_yes_r2_no)\n",
    "\n",
    "pe = (p_r1_yes * p_r2_yes) + (p_r1_no * p_r2_no)\n",
    "\n",
    "kappa = (po - pe) / (1 - pe)"
   ]
  },
  {
   "cell_type": "code",
   "execution_count": 17,
   "metadata": {},
   "outputs": [
    {
     "name": "stdout",
     "output_type": "stream",
     "text": [
      "0.35714285714285715\n"
     ]
    }
   ],
   "source": [
    "print(kappa)"
   ]
  },
  {
   "cell_type": "code",
   "execution_count": null,
   "metadata": {},
   "outputs": [],
   "source": []
  }
 ],
 "metadata": {
  "kernelspec": {
   "display_name": "Python 3",
   "language": "python",
   "name": "python3"
  },
  "language_info": {
   "codemirror_mode": {
    "name": "ipython",
    "version": 3
   },
   "file_extension": ".py",
   "mimetype": "text/x-python",
   "name": "python",
   "nbconvert_exporter": "python",
   "pygments_lexer": "ipython3",
   "version": "3.8.5"
  }
 },
 "nbformat": 4,
 "nbformat_minor": 4
}
