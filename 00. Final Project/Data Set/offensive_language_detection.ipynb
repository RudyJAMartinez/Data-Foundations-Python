{
 "cells": [
  {
   "cell_type": "markdown",
   "metadata": {},
   "source": [
    "## Libraries"
   ]
  },
  {
   "cell_type": "code",
   "execution_count": 1,
   "metadata": {},
   "outputs": [],
   "source": [
    "import csv\n",
    "import random\n",
    "import numpy as np\n",
    "import pandas as pd\n",
    "import matplotlib.pyplot as plt\n",
    "\n",
    "from sklearn.model_selection import train_test_split\n",
    "from sklearn.feature_extraction.text import CountVectorizer\n",
    "from sklearn.svm import LinearSVC\n",
    "from sklearn.ensemble import RandomForestClassifier\n",
    "from sklearn.metrics import accuracy_score\n",
    "from sklearn.model_selection import GridSearchCV\n",
    "from sklearn.metrics import precision_score, recall_score, f1_score\n",
    "import scipy.sparse as sp"
   ]
  },
  {
   "cell_type": "markdown",
   "metadata": {},
   "source": [
    "## Data Preparation"
   ]
  },
  {
   "cell_type": "markdown",
   "metadata": {},
   "source": [
    "#### Load the training and test sentiment datasets \"test.tsv\" and \"train.tsv\""
   ]
  },
  {
   "cell_type": "code",
   "execution_count": 2,
   "metadata": {},
   "outputs": [],
   "source": [
    "X_text_train = []\n",
    "y_train = []\n",
    "\n",
    "with open('train.tsv') as file:\n",
    "    tsv_reader = csv.reader(file, delimiter = '\\t', quoting = csv.QUOTE_NONE)\n",
    "    \n",
    "    for row in tsv_reader:\n",
    "        X_text_train.append(row[1]) #text being processed\n",
    "        y_train.append(row[2]) #label\n",
    "        \n",
    "X_text_test = []\n",
    "y_test = []\n",
    "\n",
    "with open('test.tsv') as file:\n",
    "    tsv_reader = csv.reader(file, delimiter = '\\t', quoting = csv.QUOTE_NONE)\n",
    "    \n",
    "    for row in tsv_reader:\n",
    "        X_text_test.append(row[1]) #text being processed\n",
    "        y_test.append(row[2]) #label"
   ]
  },
  {
   "cell_type": "markdown",
   "metadata": {},
   "source": [
    "#### Visualize Training Data"
   ]
  },
  {
   "cell_type": "code",
   "execution_count": 3,
   "metadata": {},
   "outputs": [
    {
     "data": {
      "text/plain": [
       "<matplotlib.legend.Legend at 0x7fbf17cff730>"
      ]
     },
     "execution_count": 3,
     "metadata": {},
     "output_type": "execute_result"
    },
    {
     "data": {
      "image/png": "[encoded data removed]",
      "text/plain": [
       "<Figure size 432x432 with 1 Axes>"
      ]
     },
     "metadata": {},
     "output_type": "display_data"
    }
   ],
   "source": [
    "with open('train.tsv') as file:\n",
    "    train_file = csv.reader(file, delimiter = '\\t', quoting = csv.QUOTE_NONE)\n",
    "    train_df = pd.DataFrame(train_file)\n",
    "\n",
    "color_theme = ['darkgray', 'lightsalmon', 'powderblue']\n",
    "labels = ['NOT: Not Offensive', 'TIN: Targeted Insult', 'UNT: Untargeted Insult']\n",
    "    \n",
    "train_df[2].value_counts().plot.pie(figsize = (6,6), title = '--Training Data-- \\nOffensive Language Segmentation', ylabel = '', colors = color_theme, autopct='%1.1f%%')\n",
    "plt.legend(labels, loc = 3)"
   ]
  },
  {
   "cell_type": "markdown",
   "metadata": {},
   "source": [
    "#### Convert X_text_train and X_text_test to matricies of numbers "
   ]
  },
  {
   "cell_type": "code",
   "execution_count": 4,
   "metadata": {},
   "outputs": [],
   "source": [
    "np.random.seed(42)\n",
    "random.seed(42)\n",
    "\n",
    "vec = CountVectorizer(ngram_range = (1,1))\n",
    "\n",
    "X_train = vec.fit_transform(X_text_train) \n",
    "X_test = vec.transform(X_text_test) "
   ]
  },
  {
   "cell_type": "markdown",
   "metadata": {},
   "source": [
    "<br>"
   ]
  },
  {
   "cell_type": "markdown",
   "metadata": {},
   "source": [
    "## (1) LinearSVC Classifier"
   ]
  },
  {
   "cell_type": "markdown",
   "metadata": {},
   "source": [
    "#### Initialize the classifier LinearSVC, Create the params with the C values"
   ]
  },
  {
   "cell_type": "code",
   "execution_count": 5,
   "metadata": {},
   "outputs": [],
   "source": [
    "svc = LinearSVC()\n",
    "\n",
    "params = {\"C\": [0.0001, 0.001, 0.01, 0.1, 1., 10., 100.]}"
   ]
  },
  {
   "cell_type": "markdown",
   "metadata": {},
   "source": [
    "#### Initialize GridSearchCV and Fit the Model"
   ]
  },
  {
   "cell_type": "code",
   "execution_count": 6,
   "metadata": {},
   "outputs": [
    {
     "name": "stderr",
     "output_type": "stream",
     "text": [
      "/opt/anaconda3/lib/python3.8/site-packages/sklearn/svm/_base.py:976: ConvergenceWarning: Liblinear failed to converge, increase the number of iterations.\n",
      "  warnings.warn(\"Liblinear failed to converge, increase \"\n"
     ]
    },
    {
     "data": {
      "text/plain": [
       "GridSearchCV(cv=20, estimator=LinearSVC(),\n",
       "             param_grid={'C': [0.0001, 0.001, 0.01, 0.1, 1.0, 10.0, 100.0]},\n",
       "             scoring='f1_micro')"
      ]
     },
     "execution_count": 6,
     "metadata": {},
     "output_type": "execute_result"
    }
   ],
   "source": [
    "clf = GridSearchCV(svc, params, cv = 20, scoring = 'f1_micro')\n",
    "clf.fit(X_train, y_train)"
   ]
  },
  {
   "cell_type": "markdown",
   "metadata": {},
   "source": [
    "#### Get the score from the GridSearchCV \"best score\" and Best Parameters"
   ]
  },
  {
   "cell_type": "code",
   "execution_count": 7,
   "metadata": {},
   "outputs": [
    {
     "name": "stdout",
     "output_type": "stream",
     "text": [
      "Validation: 0.7359\n",
      "Best Params: {'C': 0.1}\n"
     ]
    }
   ],
   "source": [
    "validation_score = clf.best_score_ \n",
    "print(\"Validation: {:.4f}\".format(validation_score))\n",
    "\n",
    "best_parameters = clf.best_params_\n",
    "print(f\"Best Params: {best_parameters}\")"
   ]
  },
  {
   "cell_type": "markdown",
   "metadata": {},
   "source": [
    "#### \"predict\" on X_test "
   ]
  },
  {
   "cell_type": "code",
   "execution_count": 8,
   "metadata": {},
   "outputs": [],
   "source": [
    "svm_test_predictions = clf.predict(X_test) "
   ]
  },
  {
   "cell_type": "markdown",
   "metadata": {},
   "source": [
    "#### Scoring"
   ]
  },
  {
   "cell_type": "code",
   "execution_count": 9,
   "metadata": {},
   "outputs": [
    {
     "name": "stdout",
     "output_type": "stream",
     "text": [
      "**Scoring**\n",
      "\n",
      "Train Accuracy: 0.9164\n",
      "Test Accuracy: 0.7757\n",
      "\n",
      "F1 Mirco: 0.7757\n",
      "F1 Macro: 0.2912\n"
     ]
    }
   ],
   "source": [
    "f1_micro = f1_score(y_test, svm_test_predictions, average = 'micro')\n",
    "f1_macro = f1_score(y_test, svm_test_predictions, average = 'macro')\n",
    "\n",
    "train_score = clf.score(X_train, y_train)\n",
    "test_score = clf.score(X_test, y_test)\n",
    "\n",
    "print(\"**Scoring**\\n\")\n",
    "print(\"Train Accuracy: {:.4f}\".format(train_score))\n",
    "print(\"Test Accuracy: {:.4f}\\n\".format(test_score))\n",
    "print(\"F1 Mirco: {:.4f}\".format(f1_micro))\n",
    "print(\"F1 Macro: {:.4f}\".format(f1_macro))"
   ]
  },
  {
   "cell_type": "markdown",
   "metadata": {},
   "source": [
    "#### Store predictions and write to a new CSV"
   ]
  },
  {
   "cell_type": "code",
   "execution_count": 10,
   "metadata": {},
   "outputs": [],
   "source": [
    "# Store predictions\n",
    "svm_test_predictions_df = pd.DataFrame(data = svm_test_predictions)\n",
    "\n",
    "# Write to a csv\n",
    "with open('test.tsv') as file:\n",
    "    test_file = csv.reader(file, delimiter = '\\t', quoting = csv.QUOTE_NONE)\n",
    "    svc_test_df = pd.DataFrame(test_file)\n",
    "    \n",
    "svc_test_df[2] = svm_test_predictions_df[0]\n",
    "svc_test_df.columns = ['TWITTER_ID', 'TEXT', 'PREDICTIONS']\n",
    "svc_test_df.to_csv('00. LinearSVC Prediction Results.csv', index = False)"
   ]
  },
  {
   "cell_type": "markdown",
   "metadata": {},
   "source": [
    "#### Visualize LinearSVC Prediction Results"
   ]
  },
  {
   "cell_type": "code",
   "execution_count": 11,
   "metadata": {},
   "outputs": [
    {
     "data": {
      "text/plain": [
       "<matplotlib.legend.Legend at 0x7fbf18d07850>"
      ]
     },
     "execution_count": 11,
     "metadata": {},
     "output_type": "execute_result"
    },
    {
     "data": {
      "image/png": "[encoded data removed]",
      "text/plain": [
       "<Figure size 432x432 with 1 Axes>"
      ]
     },
     "metadata": {},
     "output_type": "display_data"
    }
   ],
   "source": [
    "color_theme = ['darkgray', 'lightsalmon', 'powderblue']\n",
    "labels = ['NOT: Not Offensive', 'TIN: Targeted Insult', 'UNT: Untargeted Insult']\n",
    "    \n",
    "svc_test_df['PREDICTIONS'].value_counts().plot.pie(figsize = (6,6), title = '--LinearSVC Prediciton Results-- \\nOffensive Language Segmentation', ylabel = '', colors = color_theme, autopct='%1.1f%%')\n",
    "plt.legend(labels, loc = 3)"
   ]
  },
  {
   "cell_type": "markdown",
   "metadata": {},
   "source": [
    "<br>"
   ]
  },
  {
   "cell_type": "markdown",
   "metadata": {},
   "source": [
    "## (2) RandomForestClassifier"
   ]
  },
  {
   "cell_type": "markdown",
   "metadata": {},
   "source": [
    "#### Build Parameter Grid"
   ]
  },
  {
   "cell_type": "code",
   "execution_count": 12,
   "metadata": {},
   "outputs": [],
   "source": [
    "n_estimators = [10, 30, 50, 70, 90, 100]\n",
    "\n",
    "parameters = {'n_estimators': n_estimators}"
   ]
  },
  {
   "cell_type": "markdown",
   "metadata": {},
   "source": [
    "#### Initialize the RandomForest classifier"
   ]
  },
  {
   "cell_type": "code",
   "execution_count": 13,
   "metadata": {},
   "outputs": [],
   "source": [
    "rand_forest = RandomForestClassifier()"
   ]
  },
  {
   "cell_type": "markdown",
   "metadata": {},
   "source": [
    "#### Initialize GridSearchCV and Fit the Model"
   ]
  },
  {
   "cell_type": "code",
   "execution_count": 14,
   "metadata": {},
   "outputs": [
    {
     "name": "stdout",
     "output_type": "stream",
     "text": [
      "Fitting 2 folds for each of 6 candidates, totalling 12 fits\n",
      "[CV] n_estimators=10 .................................................\n"
     ]
    },
    {
     "name": "stderr",
     "output_type": "stream",
     "text": [
      "[Parallel(n_jobs=1)]: Using backend SequentialBackend with 1 concurrent workers.\n"
     ]
    },
    {
     "name": "stdout",
     "output_type": "stream",
     "text": [
      "[CV] .................................. n_estimators=10, total=   0.9s\n",
      "[CV] n_estimators=10 .................................................\n"
     ]
    },
    {
     "name": "stderr",
     "output_type": "stream",
     "text": [
      "[Parallel(n_jobs=1)]: Done   1 out of   1 | elapsed:    0.9s remaining:    0.0s\n"
     ]
    },
    {
     "name": "stdout",
     "output_type": "stream",
     "text": [
      "[CV] .................................. n_estimators=10, total=   1.0s\n",
      "[CV] n_estimators=30 .................................................\n",
      "[CV] .................................. n_estimators=30, total=   2.7s\n",
      "[CV] n_estimators=30 .................................................\n",
      "[CV] .................................. n_estimators=30, total=   2.9s\n",
      "[CV] n_estimators=50 .................................................\n",
      "[CV] .................................. n_estimators=50, total=   4.4s\n",
      "[CV] n_estimators=50 .................................................\n",
      "[CV] .................................. n_estimators=50, total=   4.6s\n",
      "[CV] n_estimators=70 .................................................\n",
      "[CV] .................................. n_estimators=70, total=   6.2s\n",
      "[CV] n_estimators=70 .................................................\n",
      "[CV] .................................. n_estimators=70, total=   6.3s\n",
      "[CV] n_estimators=90 .................................................\n",
      "[CV] .................................. n_estimators=90, total=   8.2s\n",
      "[CV] n_estimators=90 .................................................\n",
      "[CV] .................................. n_estimators=90, total=   8.0s\n",
      "[CV] n_estimators=100 ................................................\n",
      "[CV] ................................. n_estimators=100, total=   8.9s\n",
      "[CV] n_estimators=100 ................................................\n",
      "[CV] ................................. n_estimators=100, total=   9.2s\n"
     ]
    },
    {
     "name": "stderr",
     "output_type": "stream",
     "text": [
      "[Parallel(n_jobs=1)]: Done  12 out of  12 | elapsed:  1.1min finished\n"
     ]
    },
    {
     "data": {
      "text/plain": [
       "GridSearchCV(cv=2, estimator=RandomForestClassifier(),\n",
       "             param_grid={'n_estimators': [10, 30, 50, 70, 90, 100]}, verbose=2)"
      ]
     },
     "execution_count": 14,
     "metadata": {},
     "output_type": "execute_result"
    }
   ],
   "source": [
    "clf_rand = GridSearchCV(rand_forest, parameters, cv = 2, verbose = 2)\n",
    "clf_rand.fit(X_train, y_train)"
   ]
  },
  {
   "cell_type": "markdown",
   "metadata": {},
   "source": [
    "#### Get the score from the GridSearchCV \"best score\" and Best Parameters"
   ]
  },
  {
   "cell_type": "code",
   "execution_count": 15,
   "metadata": {},
   "outputs": [
    {
     "name": "stdout",
     "output_type": "stream",
     "text": [
      "Validation: 0.7296\n",
      "Best Params: {'n_estimators': 50}\n"
     ]
    }
   ],
   "source": [
    "validation_score = clf_rand.best_score_ \n",
    "print(\"Validation: {:.4f}\".format(validation_score))\n",
    "\n",
    "best_parameters = clf_rand.best_params_\n",
    "print(f\"Best Params: {best_parameters}\")"
   ]
  },
  {
   "cell_type": "markdown",
   "metadata": {},
   "source": [
    "#### \"predict\" on X_test "
   ]
  },
  {
   "cell_type": "code",
   "execution_count": 16,
   "metadata": {},
   "outputs": [],
   "source": [
    "rand_test_predictions = clf_rand.predict(X_test) "
   ]
  },
  {
   "cell_type": "markdown",
   "metadata": {},
   "source": [
    "#### Scoring"
   ]
  },
  {
   "cell_type": "code",
   "execution_count": 17,
   "metadata": {},
   "outputs": [
    {
     "name": "stdout",
     "output_type": "stream",
     "text": [
      "**Scoring**\n",
      "\n",
      "Train Accuracy: 0.9980\n",
      "Test Accuracy: 0.8671\n",
      "\n",
      "F1 Micro: 0.8671\n",
      "F1 Macro: 0.3096\n"
     ]
    }
   ],
   "source": [
    "f1_micro_rand = f1_score(y_test, rand_test_predictions, average = 'micro')\n",
    "f1_macro_rand = f1_score(y_test, rand_test_predictions, average = 'macro')\n",
    "\n",
    "rand_train_score = clf_rand.score(X_train, y_train)\n",
    "rand_test_score = clf_rand.score(X_test, y_test)\n",
    "\n",
    "print(\"**Scoring**\\n\")\n",
    "print(\"Train Accuracy: {:.4f}\".format(rand_train_score))\n",
    "print(\"Test Accuracy: {:.4f}\\n\".format(rand_test_score))\n",
    "print(\"F1 Micro: {:.4f}\".format(f1_micro_rand))\n",
    "print(\"F1 Macro: {:.4f}\".format(f1_macro_rand))"
   ]
  },
  {
   "cell_type": "markdown",
   "metadata": {},
   "source": [
    "#### Store predictions and write to CSV"
   ]
  },
  {
   "cell_type": "code",
   "execution_count": 18,
   "metadata": {},
   "outputs": [],
   "source": [
    "# Store predictions\n",
    "rand_test_predictions_df = pd.DataFrame(data = rand_test_predictions)\n",
    "\n",
    "# Write to a csv\n",
    "with open('test.tsv') as file:\n",
    "    test_file = csv.reader(file, delimiter = '\\t', quoting = csv.QUOTE_NONE)\n",
    "    rf_test_df = pd.DataFrame(test_file)\n",
    "    \n",
    "rf_test_df[2] = rand_test_predictions_df[0]\n",
    "rf_test_df.columns = ['TWITTER_ID', 'TEXT', 'PREDICTIONS']\n",
    "rf_test_df.to_csv('00. RandomForest Prediction Results.csv', index = False)"
   ]
  },
  {
   "cell_type": "code",
   "execution_count": 19,
   "metadata": {},
   "outputs": [
    {
     "data": {
      "text/plain": [
       "<matplotlib.legend.Legend at 0x7fbf187983a0>"
      ]
     },
     "execution_count": 19,
     "metadata": {},
     "output_type": "execute_result"
    },
    {
     "data": {
      "image/png": "[encoded data removed]",
      "text/plain": [
       "<Figure size 432x432 with 1 Axes>"
      ]
     },
     "metadata": {},
     "output_type": "display_data"
    }
   ],
   "source": [
    "color_theme = ['darkgray', 'lightsalmon', 'powderblue']\n",
    "labels = ['NOT: Not Offensive', 'TIN: Targeted Insult', 'UNT: Untargeted Insult']\n",
    "    \n",
    "rf_test_df['PREDICTIONS'].value_counts().plot.pie(figsize = (6,6), title = '--RandomForest Prediciton Results-- \\nOffensive Language Segmentation', ylabel = '', colors = color_theme, autopct='%1.1f%%')\n",
    "plt.legend(labels, loc = 3)"
   ]
  },
  {
   "cell_type": "markdown",
   "metadata": {},
   "source": [
    "<br>"
   ]
  },
  {
   "cell_type": "markdown",
   "metadata": {},
   "source": [
    "## (3) RandomForestClassifier + Lexicon"
   ]
  },
  {
   "cell_type": "markdown",
   "metadata": {},
   "source": [
    "#### Build Negative Word Lexicon Function"
   ]
  },
  {
   "cell_type": "code",
   "execution_count": 20,
   "metadata": {},
   "outputs": [],
   "source": [
    "class LexiconClassifier():\n",
    "    def __init__(self):\n",
    "\n",
    "        self.negative_words = set()\n",
    "        with open('negative-words.txt', encoding='iso-8859-1') as iFile:\n",
    "            for row in iFile:\n",
    "                self.negative_words.add(row.strip())\n",
    "\n",
    "    def count_neg_words(self, sentence):\n",
    "        num_neg_words = 0\n",
    "        for word in sentence.lower().split():\n",
    "            if word in self.negative_words:\n",
    "                num_neg_words += 1\n",
    "        return num_neg_words"
   ]
  },
  {
   "cell_type": "markdown",
   "metadata": {},
   "source": [
    "#### Load Features"
   ]
  },
  {
   "cell_type": "code",
   "execution_count": 21,
   "metadata": {},
   "outputs": [],
   "source": [
    "lex_class = LexiconClassifier()\n",
    "\n",
    "X_train_lexicon_features = []\n",
    "X_test_lexicon_features = [] \n",
    "\n",
    "for string in X_text_test:\n",
    "    X_test_lexicon_features.append([lex_class.count_neg_words(string)])\n",
    "\n",
    "for string in X_text_train:\n",
    "    X_train_lexicon_features.append([lex_class.count_neg_words(string)])"
   ]
  },
  {
   "cell_type": "markdown",
   "metadata": {},
   "source": [
    "#### Combine RandomForestClassifier with LexiconClassifier"
   ]
  },
  {
   "cell_type": "code",
   "execution_count": 22,
   "metadata": {},
   "outputs": [],
   "source": [
    "vec = CountVectorizer(ngram_range = (1,1))\n",
    "\n",
    "X_train_w_lex = vec.fit_transform(X_text_train) \n",
    "X_test_w_lex = vec.transform(X_text_test)\n",
    "\n",
    "X_train_lexicon_features = np.array(X_train_lexicon_features)\n",
    "X_test_lexicon_features = np.array(X_test_lexicon_features)\n",
    "\n",
    "X_train_w_lex = sp.hstack((X_train_lexicon_features, X_train_w_lex))\n",
    "X_test_w_lex = sp.hstack((X_test_lexicon_features, X_test_w_lex))"
   ]
  },
  {
   "cell_type": "markdown",
   "metadata": {},
   "source": [
    "#### Build Parameter Grid"
   ]
  },
  {
   "cell_type": "code",
   "execution_count": 23,
   "metadata": {},
   "outputs": [],
   "source": [
    "n_estimators = [10, 30, 50, 70, 90, 100]\n",
    "\n",
    "parameters = {'n_estimators': n_estimators}"
   ]
  },
  {
   "cell_type": "markdown",
   "metadata": {},
   "source": [
    "#### Initialize the RandomForest classifier"
   ]
  },
  {
   "cell_type": "code",
   "execution_count": 24,
   "metadata": {},
   "outputs": [],
   "source": [
    "rand_forest_lex = RandomForestClassifier()"
   ]
  },
  {
   "cell_type": "markdown",
   "metadata": {},
   "source": [
    "#### Initialize GridSearchCV and Fit the Model on X_train_w_lex"
   ]
  },
  {
   "cell_type": "code",
   "execution_count": 25,
   "metadata": {},
   "outputs": [
    {
     "name": "stdout",
     "output_type": "stream",
     "text": [
      "Fitting 2 folds for each of 6 candidates, totalling 12 fits\n",
      "[CV] n_estimators=10 .................................................\n"
     ]
    },
    {
     "name": "stderr",
     "output_type": "stream",
     "text": [
      "[Parallel(n_jobs=1)]: Using backend SequentialBackend with 1 concurrent workers.\n"
     ]
    },
    {
     "name": "stdout",
     "output_type": "stream",
     "text": [
      "[CV] .................................. n_estimators=10, total=   0.8s\n",
      "[CV] n_estimators=10 .................................................\n"
     ]
    },
    {
     "name": "stderr",
     "output_type": "stream",
     "text": [
      "[Parallel(n_jobs=1)]: Done   1 out of   1 | elapsed:    0.8s remaining:    0.0s\n"
     ]
    },
    {
     "name": "stdout",
     "output_type": "stream",
     "text": [
      "[CV] .................................. n_estimators=10, total=   0.8s\n",
      "[CV] n_estimators=30 .................................................\n",
      "[CV] .................................. n_estimators=30, total=   2.4s\n",
      "[CV] n_estimators=30 .................................................\n",
      "[CV] .................................. n_estimators=30, total=   2.4s\n",
      "[CV] n_estimators=50 .................................................\n",
      "[CV] .................................. n_estimators=50, total=   3.9s\n",
      "[CV] n_estimators=50 .................................................\n",
      "[CV] .................................. n_estimators=50, total=   4.0s\n",
      "[CV] n_estimators=70 .................................................\n",
      "[CV] .................................. n_estimators=70, total=   5.5s\n",
      "[CV] n_estimators=70 .................................................\n",
      "[CV] .................................. n_estimators=70, total=   5.5s\n",
      "[CV] n_estimators=90 .................................................\n",
      "[CV] .................................. n_estimators=90, total=   6.8s\n",
      "[CV] n_estimators=90 .................................................\n",
      "[CV] .................................. n_estimators=90, total=   7.2s\n",
      "[CV] n_estimators=100 ................................................\n",
      "[CV] ................................. n_estimators=100, total=   7.6s\n",
      "[CV] n_estimators=100 ................................................\n",
      "[CV] ................................. n_estimators=100, total=   8.0s\n"
     ]
    },
    {
     "name": "stderr",
     "output_type": "stream",
     "text": [
      "[Parallel(n_jobs=1)]: Done  12 out of  12 | elapsed:   54.9s finished\n"
     ]
    },
    {
     "data": {
      "text/plain": [
       "GridSearchCV(cv=2, estimator=RandomForestClassifier(),\n",
       "             param_grid={'n_estimators': [10, 30, 50, 70, 90, 100]}, verbose=2)"
      ]
     },
     "execution_count": 25,
     "metadata": {},
     "output_type": "execute_result"
    }
   ],
   "source": [
    "clf_rand_lex = GridSearchCV(rand_forest_lex, parameters, cv = 2, verbose = 2)\n",
    "\n",
    "clf_rand_lex.fit(X_train_w_lex, y_train)"
   ]
  },
  {
   "cell_type": "markdown",
   "metadata": {},
   "source": [
    "#### Get the score from the GridSearchCV \"best score\" and Best Parameters"
   ]
  },
  {
   "cell_type": "code",
   "execution_count": 26,
   "metadata": {},
   "outputs": [
    {
     "name": "stdout",
     "output_type": "stream",
     "text": [
      "Validation: 0.7282\n",
      "Best Params: {'n_estimators': 100}\n"
     ]
    }
   ],
   "source": [
    "validation_score = clf_rand_lex.best_score_ \n",
    "print(\"Validation: {:.4f}\".format(validation_score))\n",
    "\n",
    "best_parameters = clf_rand_lex.best_params_\n",
    "print(f\"Best Params: {best_parameters}\")"
   ]
  },
  {
   "cell_type": "markdown",
   "metadata": {},
   "source": [
    "#### \"predict on X_test_w_lex\""
   ]
  },
  {
   "cell_type": "code",
   "execution_count": 27,
   "metadata": {},
   "outputs": [],
   "source": [
    "rand_test_predictions_lex = clf_rand_lex.predict(X_test_w_lex) "
   ]
  },
  {
   "cell_type": "markdown",
   "metadata": {},
   "source": [
    "#### Scoring"
   ]
  },
  {
   "cell_type": "code",
   "execution_count": 28,
   "metadata": {},
   "outputs": [
    {
     "name": "stdout",
     "output_type": "stream",
     "text": [
      "F1 Micro: 0.8724\n",
      "F1 Macro: 0.3106\n"
     ]
    }
   ],
   "source": [
    "f1_micro_rand_lex = f1_score(y_test, rand_test_predictions_lex, average = 'micro')\n",
    "f1_macro_rand_lex = f1_score(y_test, rand_test_predictions_lex, average = 'macro')\n",
    "\n",
    "print(\"F1 Micro: {:.4f}\".format(f1_micro_rand_lex))\n",
    "print(\"F1 Macro: {:.4f}\".format(f1_macro_rand_lex))"
   ]
  },
  {
   "cell_type": "markdown",
   "metadata": {},
   "source": [
    "#### Store predictions and write to CSV"
   ]
  },
  {
   "cell_type": "code",
   "execution_count": 29,
   "metadata": {},
   "outputs": [],
   "source": [
    "# Store predictions\n",
    "rand_test_predictions_lex_df = pd.DataFrame(data = rand_test_predictions_lex)\n",
    "\n",
    "# Write to a csv\n",
    "with open('test.tsv') as file:\n",
    "    test_file = csv.reader(file, delimiter = '\\t', quoting = csv.QUOTE_NONE)\n",
    "    rf_test_lex_df = pd.DataFrame(test_file)\n",
    "    \n",
    "rf_test_lex_df[2] = rand_test_predictions_lex_df[0]\n",
    "rf_test_lex_df.columns = ['TWITTER_ID', 'TEXT', 'PREDICTIONS']\n",
    "rf_test_lex_df.to_csv('00. RandomForest + Lexicon Prediction Results.csv', index = False)"
   ]
  },
  {
   "cell_type": "code",
   "execution_count": 30,
   "metadata": {},
   "outputs": [
    {
     "data": {
      "text/plain": [
       "<matplotlib.legend.Legend at 0x7fbf1b949a60>"
      ]
     },
     "execution_count": 30,
     "metadata": {},
     "output_type": "execute_result"
    },
    {
     "data": {
      "image/png": "[encoded data removed]",
      "text/plain": [
       "<Figure size 432x432 with 1 Axes>"
      ]
     },
     "metadata": {},
     "output_type": "display_data"
    }
   ],
   "source": [
    "color_theme = ['darkgray', 'lightsalmon', 'powderblue']\n",
    "labels = ['NOT: Not Offensive', 'TIN: Targeted Insult', 'UNT: Untargeted Insult']\n",
    "    \n",
    "rf_test_lex_df['PREDICTIONS'].value_counts().plot.pie(figsize = (6,6), title = '--RandomForest + Lexicon Prediciton Results-- \\nOffensive Language Segmentation', ylabel = '', colors = color_theme, autopct='%1.1f%%')\n",
    "plt.legend(labels, loc = 3)"
   ]
  },
  {
   "cell_type": "markdown",
   "metadata": {},
   "source": [
    "<br>"
   ]
  },
  {
   "cell_type": "markdown",
   "metadata": {},
   "source": [
    "## Bag Words"
   ]
  },
  {
   "cell_type": "code",
   "execution_count": null,
   "metadata": {},
   "outputs": [],
   "source": []
  },
  {
   "cell_type": "markdown",
   "metadata": {},
   "source": [
    "<br>"
   ]
  }
 ],
 "metadata": {
  "kernelspec": {
   "display_name": "Python 3",
   "language": "python",
   "name": "python3"
  },
  "language_info": {
   "codemirror_mode": {
    "name": "ipython",
    "version": 3
   },
   "file_extension": ".py",
   "mimetype": "text/x-python",
   "name": "python",
   "nbconvert_exporter": "python",
   "pygments_lexer": "ipython3",
   "version": "3.8.5"
  }
 },
 "nbformat": 4,
 "nbformat_minor": 4
}
