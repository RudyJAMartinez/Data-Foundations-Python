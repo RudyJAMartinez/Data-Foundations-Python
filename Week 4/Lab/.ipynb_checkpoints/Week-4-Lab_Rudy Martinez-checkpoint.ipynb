{
 "cells": [
  {
   "cell_type": "markdown",
   "metadata": {},
   "source": [
    "# Python Lab Notebook\n",
    "\n",
    "Blank notebook to be used for class exercises.\n",
    "\n",
    "Name: Rudy Martinez\n",
    "\n",
    "abc123: Lpe538"
   ]
  },
  {
   "cell_type": "markdown",
   "metadata": {},
   "source": [
    "## Exercise 1\n",
    "\n",
    "Write code that reads the csv file \"housing_prices.csv\" and calculate/print the following:\n",
    "- Calculate and print the sum of all house prices. Do not use the sum() method\n",
    "- Calculate and print the average price. Do not use any external packages.\n",
    "- Calculate and print the max price (all prices are > 0). Do not use the max() method.\n",
    "- Print the name of the street that contains the house with the most expensive house.\n",
    "\n",
    "The path for the file is \"./house_prices.csv\".\n",
    "\n",
    "**Important Python concepts:** for, lists, open ('r'), if (>)\n",
    "\n",
    "Run the cell below to view the \"house_prices.csv\" file."
   ]
  },
  {
   "cell_type": "code",
   "execution_count": 1,
   "metadata": {},
   "outputs": [
    {
     "name": "stdout",
     "output_type": "stream",
     "text": [
      "\"street name\",\"square feet\",\"price\"\n",
      "\"Sreet 1\",400,10000\n",
      "\"Street 2\",650,15000\n",
      "\"Street 3\",1000,20000\n",
      "\n"
     ]
    }
   ],
   "source": [
    "with open(\"house_prices.csv\") as iFile:\n",
    "    print(iFile.read())"
   ]
  },
  {
   "cell_type": "code",
   "execution_count": 71,
   "metadata": {},
   "outputs": [
    {
     "name": "stdout",
     "output_type": "stream",
     "text": [
      "The sum of all house prices is: $45000.0\n",
      "\n",
      "The average price is $15000.0\n",
      "\n",
      "The max price is: $20000.0\n",
      "\n",
      "The street name is: Street 3\n"
     ]
    }
   ],
   "source": [
    "import csv\n",
    "\n",
    "house_count = 0\n",
    "total_price = 0\n",
    "max_price = 0\n",
    "house_street = ''\n",
    "\n",
    "my_file = open('house_prices.csv')\n",
    "my_csv = csv.reader(my_file, delimiter = ',')\n",
    "next(my_csv)\n",
    "\n",
    "for row in my_csv:\n",
    "    house_count += float(1)\n",
    "    current_price = float(row[2])\n",
    "    total_price += current_price\n",
    "    \n",
    "    if current_price > max_price:\n",
    "        max_price = current_price\n",
    "        house_street = row[0]\n",
    "    \n",
    "my_file.close()\n",
    "\n",
    "average_price = total_price / house_count\n",
    "\n",
    "\n",
    "print(f\"The sum of all house prices is: ${total_price}\\n\")\n",
    "print(f\"The average price is ${average_price}\\n\")\n",
    "print(f\"The max price is: ${max_price}\\n\")\n",
    "print(f\"The street name is: {house_street}\")"
   ]
  },
  {
   "cell_type": "markdown",
   "metadata": {},
   "source": [
    "## Exercise 2\n",
    "\n",
    "Given the following list of lists\n",
    "\n",
    "myData = [['name','department','birthday month'], ['JohnDoe','Marketing','November'],['Jane Smith', 'IT', 'March']]\n",
    "\n",
    "create a csv file that is delimited with the tab ('\\t') character using the csv.writer() method. Name the file \"employee_birthday.csv\"."
   ]
  },
  {
   "cell_type": "code",
   "execution_count": 73,
   "metadata": {},
   "outputs": [],
   "source": [
    "myData = [['name','department','birthday month'], ['John Doe','Marketing','November'],['Jane Smith', 'IT', 'March']]"
   ]
  },
  {
   "cell_type": "code",
   "execution_count": 82,
   "metadata": {},
   "outputs": [],
   "source": [
    "import csv\n",
    "\n",
    "my_file = open('employee_birthday.csv', 'w', newline = '')\n",
    "csvWriter = csv.writer(my_file, delimiter = '\\t')\n",
    "\n",
    "for row in myData:\n",
    "    csvWriter.writerow(row)\n",
    "\n",
    "my_file.close()"
   ]
  },
  {
   "cell_type": "markdown",
   "metadata": {},
   "source": [
    "Run the line below to check your work:"
   ]
  },
  {
   "cell_type": "code",
   "execution_count": 83,
   "metadata": {},
   "outputs": [
    {
     "name": "stdout",
     "output_type": "stream",
     "text": [
      "name\tdepartment\tbirthday month\n",
      "John Doe\tMarketing\tNovember\n",
      "Jane Smith\tIT\tMarch\n",
      "\n"
     ]
    }
   ],
   "source": [
    "with open(\"employee_birthday.csv\", \"r\") as inFile:\n",
    "    print(inFile.read())"
   ]
  },
  {
   "cell_type": "markdown",
   "metadata": {},
   "source": [
    "## Exercise 3\n",
    "\n",
    "A garden center has an XML (plant_catalog.xml) file that stores information, including price, for all plants they sell. The store is having a sale where everything is 20% off. Write a program that that prints the plant \"COMMON\" name, the current price, and the new sale price. An example of what the output should look like is shown below:\n",
    "\n",
    "```\n",
    "Bloodroot $2.44 to $1.95\n",
    "Columbine $9.37 to $7.50\n",
    "Marsh Marigold $6.81 to $5.45\n",
    "...```\n",
    "        \n",
    "File absolute path: \"./plant_catalog.xml\"\n",
    "**Hint:** You will need to use \"string indexing\"."
   ]
  },
  {
   "cell_type": "code",
   "execution_count": 84,
   "metadata": {},
   "outputs": [
    {
     "name": "stdout",
     "output_type": "stream",
     "text": [
      "<?xml version=\"1.0\" encoding=\"UTF-8\"?>\n",
      "<CATALOG>\n",
      "  <PLANT>\n",
      "    <COMMON>Bloodroot</COMMON>\n",
      "    <BOTANICAL>Sanguinaria canadensis</BOTANICAL>\n",
      "    <ZONE>4</ZONE>\n",
      "    <LIGHT>Mostly Shady</LIGHT>\n",
      "    <PRICE>$2.44</PRICE>\n",
      "    <AVAILABILITY>031599</AVAILABILITY>\n",
      "  </PLANT>\n",
      "  <PLANT>\n",
      "    <COMMON>Columbine</COMMON>\n",
      "    <BOTANICAL>Aquilegia canadensis</BOTANICAL>\n",
      "    <ZONE>3</ZONE>\n",
      "    <LIGHT>Mostly Shady</LIGHT>\n",
      "    <PRICE>$9.37</PRICE>\n",
      "    <AVAILABILITY>030699</AVAILABILITY>\n",
      "  </PLANT>\n",
      "  <PLANT>\n",
      "    <COMMON>Marsh Marigold</COMMON>\n",
      "    <BOTANICAL>Caltha palustris</BOTANICAL>\n",
      "    <ZONE>4</ZONE>\n",
      "    <LIGHT>Mostly Sunny</LIGHT>\n",
      "    <PRICE>$6.81</PRICE>\n",
      "    <AVAILABILITY>051799</AVAILABILITY>\n",
      "  </PLANT>\n",
      "\n"
     ]
    }
   ],
   "source": [
    "# Use this code to look at the structure of plant_catalog.xml\n",
    "# n = number of lines to show\n",
    "n = 26\n",
    "with open(\"plant_catalog.xml\") as myfile:\n",
    "    head = [next(myfile) for x in range(n)]\n",
    "print(''.join(head))"
   ]
  },
  {
   "cell_type": "code",
   "execution_count": 134,
   "metadata": {},
   "outputs": [
    {
     "name": "stdout",
     "output_type": "stream",
     "text": [
      "Bloodroot $2.44 to $1.95\n",
      "Columbine $9.37 to $7.5\n",
      "Marsh Marigold $6.81 to $5.45\n",
      "Cowslip $9.90 to $7.92\n",
      "Dutchman's-Breeches $6.44 to $5.15\n",
      "Ginger, Wild $9.03 to $7.22\n",
      "Hepatica $4.45 to $3.56\n",
      "Liverleaf $3.99 to $3.19\n",
      "Jack-In-The-Pulpit $3.23 to $2.58\n",
      "Mayapple $2.98 to $2.38\n",
      "Phlox, Woodland $2.80 to $2.24\n",
      "Phlox, Blue $5.59 to $4.47\n",
      "Spring-Beauty $6.59 to $5.27\n",
      "Trillium $3.90 to $3.12\n",
      "Wake Robin $3.20 to $2.56\n",
      "Violet, Dog-Tooth $9.04 to $7.23\n",
      "Trout Lily $6.94 to $5.55\n",
      "Adder's-Tongue $9.58 to $7.66\n",
      "Anemone $8.86 to $7.09\n",
      "Grecian Windflower $9.16 to $7.33\n",
      "Bee Balm $4.59 to $3.67\n",
      "Bergamot $7.16 to $5.73\n",
      "Black-Eyed Susan $9.80 to $7.84\n",
      "Buttercup $2.57 to $2.06\n",
      "Crowfoot $9.34 to $7.47\n",
      "Butterfly Weed $2.78 to $2.22\n",
      "Cinquefoil $7.06 to $5.65\n",
      "Primrose $6.56 to $5.25\n",
      "Gentian $7.81 to $6.25\n",
      "Blue Gentian $8.56 to $6.85\n",
      "Jacob's Ladder $9.26 to $7.41\n",
      "Greek Valerian $4.36 to $3.49\n",
      "California Poppy $7.89 to $6.31\n",
      "Shooting Star $8.60 to $6.88\n",
      "Snakeroot $5.63 to $4.5\n",
      "Cardinal Flower $3.02 to $2.42\n"
     ]
    }
   ],
   "source": [
    "import xml.etree.ElementTree as ET\n",
    "to_open = open('plant_catalog.xml')\n",
    "input = to_open.read()\n",
    "lst = ET.fromstring(input)\n",
    "\n",
    "names = tree.findall('PLANT')\n",
    "\n",
    "for item in lst:\n",
    "    name = item.find('COMMON').text\n",
    "    price = item.find('PRICE').text\n",
    "    new_price = round(float(item.find('PRICE').text[1:]) * .80, 2)\n",
    "    print(f\"{name} {price} to ${new_price}\")\n",
    "to_open.close()"
   ]
  },
  {
   "cell_type": "markdown",
   "metadata": {},
   "source": [
    "## Exercise 4\n",
    "\n",
    "Using the \"exampleJSON.json\" file, complete the following tasks:\n",
    "- Load the file into a python dictionary.\n",
    "- Change the email of item with the name \"Anthony\" to \"anthony.rios@utsa.edu\"\n",
    "- Add a new person to the list with the name \"David\" and email \"david@fakeemail.edu\"\n",
    "- Save the new dictionary to a JSON file \"exampleJSON2.json\"\n",
    "\n",
    "File path: ./exampleJSON.json"
   ]
  },
  {
   "cell_type": "code",
   "execution_count": 149,
   "metadata": {},
   "outputs": [
    {
     "name": "stdout",
     "output_type": "stream",
     "text": [
      "[{\"name\": \"Anthony\", \"email\": \"a@utsa.edu\", \"age\": 102}, {\"name\": \"John\", \"email\": \"john@fake.edu\"}, {\"name\": \"Jane\", \"email\": \"jane@fake.edu\"}]\n",
      "\n"
     ]
    }
   ],
   "source": [
    "with open(\"exampleJSON.json\") as iFile:\n",
    "    print(iFile.read())"
   ]
  },
  {
   "cell_type": "code",
   "execution_count": 178,
   "metadata": {},
   "outputs": [],
   "source": [
    "import json \n",
    "\n",
    "myFile = open('exampleJSON.json')\n",
    "data = json.load(myFile)\n",
    "myFile.close()\n",
    "\n",
    "data[0]['email'] = 'anthony.rios@utsa.edu'\n",
    "new_person = {'name':'David', 'email': 'david@fakeemail.edu'}\n",
    "data.append(new_person)\n",
    "\n",
    "with open('exampleJSON2.json', 'w') as iFile:\n",
    "    json.dump(data, iFile)"
   ]
  },
  {
   "cell_type": "markdown",
   "metadata": {},
   "source": [
    "Run the following cell to check your work"
   ]
  },
  {
   "cell_type": "code",
   "execution_count": 177,
   "metadata": {},
   "outputs": [
    {
     "name": "stdout",
     "output_type": "stream",
     "text": [
      "[{\"name\": \"Anthony\", \"email\": \"anthony.rios@utsa.edu\", \"age\": 102}, {\"name\": \"John\", \"email\": \"john@fake.edu\"}, {\"name\": \"Jane\", \"email\": \"jane@fake.edu\"}, {\"name\": \"David\", \"email\": \"david@fakeemail.edu\"}]\n"
     ]
    }
   ],
   "source": [
    "# Run this cell to check your code\n",
    "with open(\"exampleJSON2.json\") as iFile:\n",
    "    print(iFile.read())"
   ]
  },
  {
   "cell_type": "markdown",
   "metadata": {},
   "source": [
    "## Exercise 5\n",
    "\n",
    "Write code to loop over the Twitter JSONL file \"twitter.jsonl\" and compute the following:\n",
    "- Count and print the total number of tweets.\n",
    "- Count and print the total number of users are in the dataset. Hint: row['user']['screen_name']\n",
    "- Print the screen name of the user who has the most tweets.\n",
    "\n",
    "**Tip:** Don't process the entire file right away, start by processing 1 to 2 lines."
   ]
  },
  {
   "cell_type": "markdown",
   "metadata": {},
   "source": [
    "Run the next cell to view the first row line of the file"
   ]
  },
  {
   "cell_type": "code",
   "execution_count": 6,
   "metadata": {},
   "outputs": [
    {
     "name": "stdout",
     "output_type": "stream",
     "text": [
      "{'contributors': None,\n",
      " 'coordinates': None,\n",
      " 'created_at': 'Thu Aug 18 17:17:12 +0000 2016',\n",
      " 'display_text_range': [0, 95],\n",
      " 'entities': {'hashtags': [],\n",
      "              'symbols': [],\n",
      "              'urls': [{'display_url': 'dlvr.it/M3sHSw',\n",
      "                        'expanded_url': 'http://dlvr.it/M3sHSw',\n",
      "                        'indices': [72, 95],\n",
      "                        'url': 'https://t.co/uIV7TKHs9K'}],\n",
      "              'user_mentions': []},\n",
      " 'favorite_count': 1,\n",
      " 'favorited': False,\n",
      " 'full_text': 'Adam Cole Praises Kevin Owens + A Preview For Next Week’s ROH '\n",
      "              'Broadcast https://t.co/uIV7TKHs9K',\n",
      " 'geo': None,\n",
      " 'id': 766323071976247296,\n",
      " 'id_str': '766323071976247296',\n",
      " 'in_reply_to_screen_name': None,\n",
      " 'in_reply_to_status_id': None,\n",
      " 'in_reply_to_status_id_str': None,\n",
      " 'in_reply_to_user_id': None,\n",
      " 'in_reply_to_user_id_str': None,\n",
      " 'is_quote_status': False,\n",
      " 'lang': 'en',\n",
      " 'place': None,\n",
      " 'possibly_sensitive': False,\n",
      " 'retweet_count': 0,\n",
      " 'retweeted': False,\n",
      " 'source': '<a href=\"https://dlvrit.com/\" rel=\"nofollow\">dlvr.it</a>',\n",
      " 'truncated': False,\n",
      " 'user': {'contributors_enabled': False,\n",
      "          'created_at': 'Thu Dec 05 09:48:45 +0000 2013',\n",
      "          'default_profile': False,\n",
      "          'default_profile_image': False,\n",
      "          'description': 'i sing my own rhythm.',\n",
      "          'entities': {'description': {'urls': []}},\n",
      "          'favourites_count': 0,\n",
      "          'follow_request_sent': False,\n",
      "          'followers_count': 76,\n",
      "          'following': False,\n",
      "          'friends_count': 15,\n",
      "          'geo_enabled': False,\n",
      "          'has_extended_profile': False,\n",
      "          'id': 2231233110,\n",
      "          'id_str': '2231233110',\n",
      "          'is_translation_enabled': False,\n",
      "          'is_translator': False,\n",
      "          'lang': 'en',\n",
      "          'listed_count': 34,\n",
      "          'location': 'main; @Kan1shk3',\n",
      "          'name': '',\n",
      "          'notifications': False,\n",
      "          'profile_background_color': 'FFFFFF',\n",
      "          'profile_background_image_url': 'http://abs.twimg.com/images/themes/theme1/bg.png',\n",
      "          'profile_background_image_url_https': 'https://abs.twimg.com/images/themes/theme1/bg.png',\n",
      "          'profile_background_tile': False,\n",
      "          'profile_banner_url': 'https://pbs.twimg.com/profile_banners/2231233110/1387622004',\n",
      "          'profile_image_extensions_alt_text': None,\n",
      "          'profile_image_url': 'http://pbs.twimg.com/profile_images/414342229096808449/fYvzqXN7_normal.png',\n",
      "          'profile_image_url_https': 'https://pbs.twimg.com/profile_images/414342229096808449/fYvzqXN7_normal.png',\n",
      "          'profile_link_color': '08C2C2',\n",
      "          'profile_sidebar_border_color': 'FFFFFF',\n",
      "          'profile_sidebar_fill_color': 'DDEEF6',\n",
      "          'profile_text_color': '333333',\n",
      "          'profile_use_background_image': True,\n",
      "          'protected': False,\n",
      "          'screen_name': 'sheezy0',\n",
      "          'statuses_count': 151093,\n",
      "          'time_zone': None,\n",
      "          'translator_type': 'none',\n",
      "          'url': None,\n",
      "          'utc_offset': None,\n",
      "          'verified': False}}\n"
     ]
    }
   ],
   "source": [
    "import pprint\n",
    "import json\n",
    "with open('./twitter.jsonl') as iFile:\n",
    "    for row in iFile:\n",
    "        pprint.pprint(json.loads(row.strip()))\n",
    "        break"
   ]
  },
  {
   "cell_type": "code",
   "execution_count": null,
   "metadata": {},
   "outputs": [],
   "source": [
    "# Write Code here"
   ]
  }
 ],
 "metadata": {
  "kernelspec": {
   "display_name": "Python 3",
   "language": "python",
   "name": "python3"
  },
  "language_info": {
   "codemirror_mode": {
    "name": "ipython",
    "version": 3
   },
   "file_extension": ".py",
   "mimetype": "text/x-python",
   "name": "python",
   "nbconvert_exporter": "python",
   "pygments_lexer": "ipython3",
   "version": "3.8.5"
  }
 },
 "nbformat": 4,
 "nbformat_minor": 4
}
